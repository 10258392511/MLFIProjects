{
 "cells": [
  {
   "cell_type": "markdown",
   "id": "9f8b1dcf",
   "metadata": {},
   "source": [
    "**Write the names of all group members (max. 5 members)**:\n",
    "- Zhexin Wu\n",
    "- Fangyuan Sun\n",
    "- Zhiang Wu\n",
    "- Shuhang Li\n",
    "- Yaxuan Li"
   ]
  },
  {
   "cell_type": "markdown",
   "id": "dd61e386-f037-4784-a966-d74f5aef180c",
   "metadata": {},
   "source": [
    "When submitting your work, please follow closely the template below."
   ]
  },
  {
   "cell_type": "code",
   "execution_count": 1,
   "id": "2d10686b",
   "metadata": {},
   "outputs": [],
   "source": [
    "# %pip install tensorboard lightning optuna optuna-integration"
   ]
  },
  {
   "cell_type": "code",
   "execution_count": 2,
   "id": "443cd7cf",
   "metadata": {},
   "outputs": [],
   "source": [
    "import numpy as np\n",
    "import pandas as pd\n",
    "import matplotlib.pyplot as plt\n",
    "import seaborn as sns\n",
    "import torch\n",
    "import torch.nn as nn\n",
    "import lightning as pl\n",
    "import optuna\n",
    "import os\n",
    "import pickle\n",
    "import time\n",
    "\n",
    "from torch.utils.data import TensorDataset, DataLoader\n",
    "from torch.distributions import Normal\n",
    "from torch.optim import AdamW\n",
    "from torch.optim.lr_scheduler import ReduceLROnPlateau\n",
    "from lightning.pytorch.callbacks import ModelCheckpoint\n",
    "from lightning.pytorch.loggers import TensorBoardLogger\n",
    "from optuna.pruners import MedianPruner\n",
    "from optuna.integration import PyTorchLightningPruningCallback\n",
    "from scipy.stats import norm\n",
    "from typing import Tuple, Union"
   ]
  },
  {
   "cell_type": "code",
   "execution_count": 3,
   "id": "053e3144",
   "metadata": {},
   "outputs": [
    {
     "data": {
      "text/plain": [
       "('2.4.1+cu118', True)"
      ]
     },
     "execution_count": 3,
     "metadata": {},
     "output_type": "execute_result"
    }
   ],
   "source": [
    "torch.__version__, torch.cuda.is_available()"
   ]
  },
  {
   "cell_type": "code",
   "execution_count": 4,
   "id": "af03e43e",
   "metadata": {},
   "outputs": [],
   "source": [
    "sns.set_theme()"
   ]
  },
  {
   "cell_type": "code",
   "execution_count": 5,
   "id": "78fd0be0",
   "metadata": {},
   "outputs": [],
   "source": [
    "# Configs\n",
    "BS_PARAMS = {\n",
    "    \"N\": 30,\n",
    "    \"S0\": 1,\n",
    "    \"K\": 1,\n",
    "    \"T\": 30 / 365,\n",
    "    \"r\": 0,\n",
    "    \"sigma\": 0.5,\n",
    "}\n",
    "TRAINING_CONFIGS = {\n",
    "    \"num_train_paths\": int(1e5),\n",
    "    \"num_val_paths\": int(1e4),\n",
    "    \"train_seed\": 100,\n",
    "    \"val_seed\": 200,\n",
    "    \"num_epochs\": 50,\n",
    "    \"batch_size\": 2048,\n",
    "    \"opt_cls\": AdamW,\n",
    "    \"lr\": 5e-3,\n",
    "    \"scheduler_params\": {\n",
    "        \"model_cls\": ReduceLROnPlateau,\n",
    "        \"params\": {\n",
    "            \"mode\": \"min\",\n",
    "            \"factor\": 0.5,\n",
    "            \"patience\": 5,\n",
    "            \"min_lr\": 1e-5,\n",
    "            \"threshold\": 1e-3,\n",
    "        },\n",
    "    },\n",
    "}\n",
    "TUNING_PARAMS = {\n",
    "    \"n_trials\": 30,\n",
    "}"
   ]
  },
  {
   "cell_type": "code",
   "execution_count": 6,
   "id": "830c97ed",
   "metadata": {},
   "outputs": [],
   "source": [
    "def compute_short_call_profit(S_0: torch.Tensor, S_T: torch.Tensor, K, T, r, sigma, **kwargs):\n",
    "    \"\"\"\n",
    "    Computes p - g(S_T)\n",
    "    S_0, S_T: (B,)\n",
    "    \"\"\"\n",
    "    norm = Normal(loc=torch.zeros_like(S_0), scale=torch.ones_like(S_0))\n",
    "    value_at_expir = torch.maximum(S_T - K, torch.zeros_like(S_T))\n",
    "    t = 0\n",
    "    d_plus = 1 / (sigma * (T - t) ** 0.5) * (torch.log(S_0 / K) + (r + sigma ** 2 / 2) * (T - t))\n",
    "    d_minus = d_plus - sigma * (T - t) ** 0.5\n",
    "    value_at_t = norm.cdf(d_plus) * S_0 - norm.cdf(d_minus) * K * np.exp(-r * (T - t))\n",
    "    profit = value_at_t - value_at_expir\n",
    "    \n",
    "    return profit\n",
    "\n",
    "\n",
    "class ResBlock(nn.Module):\n",
    "    def __init__(self, hidden_units):\n",
    "        super().__init__()\n",
    "        self.net = nn.Sequential(nn.Linear(hidden_units, hidden_units), nn.ReLU())\n",
    "    \n",
    "    def forward(self, x):\n",
    "        x = self.net(x) + x\n",
    "        \n",
    "        return x\n",
    "        \n",
    "\n",
    "class MLP(nn.Module):\n",
    "    def __init__(self, params: dict):\n",
    "        \"\"\"\n",
    "        params: input_units, num_layers, hidden_units \n",
    "        \"\"\"\n",
    "        super().__init__()\n",
    "        self.params = params\n",
    "        self.use_norm = self.params.get(\"use_norm\", False)\n",
    "        \n",
    "        layers = [\n",
    "            nn.Linear(self.params[\"input_units\"], self.params[\"hidden_units\"]),\n",
    "            nn.ReLU(),\n",
    "        ]\n",
    "        \n",
    "        if self.use_norm:\n",
    "#             layers.append(nn.LayerNorm(self.params[\"hidden_units\"]))\n",
    "            layers.append(nn.BatchNorm1d(self.params[\"hidden_units\"]))\n",
    "            \n",
    "        for _ in range(self.params[\"num_layers\"] - 2):  # Excluding input and output layers\n",
    "#             layers += [\n",
    "#                 nn.Linear(self.params[\"hidden_units\"], self.params[\"hidden_units\"]),\n",
    "#                 nn.ReLU(),\n",
    "#             ]\n",
    "            layers += [\n",
    "                ResBlock(self.params[\"hidden_units\"]),\n",
    "            ]\n",
    "            if self.use_norm:\n",
    "#                 layers.append(nn.LayerNorm(self.params[\"hidden_units\"]))\n",
    "                layers.append(nn.BatchNorm1d(self.params[\"hidden_units\"]))\n",
    "                \n",
    "        self.out_layer = nn.Linear(self.params[\"hidden_units\"], 1)\n",
    "        self.net = nn.Sequential(*layers)\n",
    "    \n",
    "    def forward(self, x):\n",
    "        x_out = self.net(x)\n",
    "        x_out = self.out_layer(x_out)\n",
    "        \n",
    "        return x_out"
   ]
  },
  {
   "cell_type": "code",
   "execution_count": 7,
   "id": "e011199a",
   "metadata": {},
   "outputs": [],
   "source": [
    "class HedgingLModule(pl.LightningModule):\n",
    "    def __init__(self, model: nn.Module, params: dict):\n",
    "        \"\"\"\n",
    "        params: opt_cls, lr,\n",
    "            scheduler_params: dict; keys: model_cls, params: dict \n",
    "        \"\"\"\n",
    "        super().__init__()\n",
    "        self.model = model\n",
    "        self.params = params\n",
    "    \n",
    "    def forward(self, x_in):\n",
    "        x, tt = x_in\n",
    "        hedging_loss = self.model(x, tt)\n",
    "        \n",
    "        return hedging_loss\n",
    "    \n",
    "    def predict_step(self, x_in):\n",
    "        preds = self(x_in)\n",
    "        return preds\n",
    "    \n",
    "    def training_step(self, batch, batch_idx):\n",
    "        x, tt = batch\n",
    "        hedging_loss = (self.model(x, tt) ** 2).mean()\n",
    "        lr = self.trainer.optimizers[0].param_groups[0][\"lr\"]\n",
    "        metrics = {\"train_hedge_loss\": hedging_loss, \"lr\": lr}\n",
    "        self.log_dict(metrics, on_step=True, on_epoch=True, prog_bar=True, logger=True)\n",
    "        \n",
    "        return hedging_loss\n",
    "    \n",
    "    def validation_step(self, batch, batch_idx):\n",
    "        x, tt = batch\n",
    "        hedging_loss = (self.model(x, tt) ** 2).mean()\n",
    "        metrics = {\"val_hedge_loss\": hedging_loss}\n",
    "        self.log_dict(metrics, on_step=False, on_epoch=True, prog_bar=True, logger=True)        \n",
    "    \n",
    "    def configure_optimizers(self):\n",
    "        opt = self.params[\"opt_cls\"](self.model.parameters(), lr=self.params[\"lr\"])\n",
    "        scheduler_params = self.params[\"scheduler_params\"]\n",
    "        scheduler = scheduler_params[\"model_cls\"](opt, **scheduler_params[\"params\"])\n",
    "        \n",
    "        opt_config = {\n",
    "            \"optimizer\": opt,\n",
    "            \"lr_scheduler\": {\n",
    "                \"scheduler\": scheduler,\n",
    "                \"monitor\": \"val_hedge_loss\",\n",
    "                \"interval\": \"epoch\",\n",
    "            }\n",
    "        }\n",
    "        \n",
    "        return opt_config\n",
    "\n",
    "    \n",
    "def predict(trainer: pl.Trainer, pl_model: pl.LightningModule, data_module: pl.LightningDataModule):\n",
    "    preds = trainer.predict(pl_model, data_module)\n",
    "    preds = torch.cat(preds).cpu().numpy()\n",
    "    \n",
    "    return preds"
   ]
  },
  {
   "cell_type": "code",
   "execution_count": 8,
   "id": "9bdbec9b",
   "metadata": {},
   "outputs": [],
   "source": [
    "def dict2str(params: dict):\n",
    "    out_str = \"__\".join([f\"{key}_{val if isinstance(val, int) else round(val, 3)}\".replace(\".\", \"_\") for key, val in params.items()])\n",
    "    \n",
    "    return out_str\n",
    "\n",
    "\n",
    "def train_main(\n",
    "    model_cls,\n",
    "    data_module_main,\n",
    "    model_params: dict,\n",
    "    training_config: dict,\n",
    "    ckpt_root_dir: str = \"ckpts/\",\n",
    "    log_root_dir: str = \"logs\",\n",
    "):  \n",
    "    def objective(trial: optuna.trial.Trial):\n",
    "        tunable_params = {\n",
    "            \"num_layers\": trial.suggest_int(\"num_layers\", 3, 10),\n",
    "            \"hidden_units\": trial.suggest_int(\"hidden_units\", 32, 256, log=True),\n",
    "        }\n",
    "        model_params.update(tunable_params)\n",
    "        model = model_cls(model_params)\n",
    "        pl_model = HedgingLModule(model, training_config)\n",
    "        local_path = dict2str(tunable_params)\n",
    "        model_ckpt = ModelCheckpoint(\n",
    "            dirpath=os.path.join(ckpt_root_dir, model_cls.__name__, local_path),  # e.g: ckpts/Autonomou/{hyper_params}\n",
    "            filename=\"{epoch}_{val_hedge_loss:.3e}\",\n",
    "            monitor=\"val_hedge_loss\",\n",
    "            mode=\"min\",\n",
    "            save_top_k=1,\n",
    "        )\n",
    "        logger = TensorBoardLogger(\n",
    "            save_dir=log_root_dir,\n",
    "            name=model_cls.__name__,\n",
    "            version=local_path,\n",
    "        )\n",
    "        trainer = pl.Trainer(\n",
    "            max_epochs=training_config[\"num_epochs\"],\n",
    "            callbacks=[model_ckpt, PyTorchLightningPruningCallback(trial, monitor=\"val_hedge_loss\")],\n",
    "            logger=logger,\n",
    "        )\n",
    "        trainer.logger.log_hyperparams(tunable_params)\n",
    "        trainer.fit(pl_model, data_module_main)\n",
    "        \n",
    "        preds = predict(trainer, pl_model, data_module_main)\n",
    "        mse = (preds ** 2).mean().item()\n",
    "#         std = preds.std().item()\n",
    "        \n",
    "        return mse\n",
    "    \n",
    "    return objective"
   ]
  },
  {
   "cell_type": "markdown",
   "id": "18b87eda",
   "metadata": {},
   "source": [
    "# Exercise 1"
   ]
  },
  {
   "cell_type": "markdown",
   "id": "9e1793f0",
   "metadata": {},
   "source": [
    "### Question 1.a"
   ]
  },
  {
   "cell_type": "markdown",
   "id": "21d31df1",
   "metadata": {},
   "source": [
    "Check that $ S_t = s_0 \\exp \\left( \\sigma W_t - \\frac{1}{2} \\sigma^2 t \\right)$ solves the Black-Scholes SDE."
   ]
  },
  {
   "cell_type": "markdown",
   "id": "66f08a3d",
   "metadata": {},
   "source": [
    "<span style=\"color: blue;\"><b>Solution:</b></span>\n",
    "\n",
    "Let \n",
    "$$f(t, W_t) := s_0 \\cdot \\exp(\\sigma W_t - \\frac{1}{2}\\sigma^2t)$$\n",
    "We have:\n",
    "$$\n",
    "\\begin{align*}\n",
    "    f_t(t, W_t) &= -\\frac{1}{2}\\sigma^2 \\cdot S_t\\\\\n",
    "    f_x(t, W_t) &= \\sigma \\cdot S_t\\\\\n",
    "    f_{xx}(t, W_t) &= \\sigma^2 \\cdot S_t\n",
    "\\end{align*}\n",
    "$$\n",
    "Then\n",
    "$$\\begin{align*}\n",
    "    dS_t &= df(t, W_t) \\\\\n",
    "    &= (f_t(t, W_t) + \\frac{1}{2} f_{xx}(t, W_t))dt + f_x(t, W_t)dW_t\\\\\n",
    "    &= S_t \\cdot \\big((-\\frac{1}{2}\\sigma^2 + \\frac{1}{2}\\sigma^2)dt + \\sigma dW_t\\big)\\\\\n",
    "    &= \\sigma S_t dW_t\n",
    "\\end{align*}$$\n",
    "\n",
    "Since we assume $r = 0$, we conclude that $S_t = s_0 \\exp( \\sigma W_t - \\frac{1}{2} \\sigma^2 t)$ solves the Black-Scholes SDE."
   ]
  },
  {
   "cell_type": "markdown",
   "id": "7b164cba",
   "metadata": {},
   "source": [
    "### Question 1.b - Generate dataset"
   ]
  },
  {
   "cell_type": "code",
   "execution_count": 9,
   "id": "0b5373b8",
   "metadata": {},
   "outputs": [],
   "source": [
    "class BSDataModule(pl.LightningDataModule):\n",
    "    def __init__(self, params: dict):\n",
    "        \"\"\"\n",
    "        params: batch_size, num_train_paths, num_val_paths, bs_params\n",
    "        \"\"\"\n",
    "        super().__init__()\n",
    "        self.params = params\n",
    "        self.bs_params = params[\"bs_params\"]\n",
    "    \n",
    "    def setup(self, stage: str = \"fit\"):\n",
    "        train_seed = self.params.get(\"train_seed\", None)\n",
    "        val_seed = self.params.get(\"val_seed\", None)\n",
    "        \n",
    "        if stage == \"fit\":\n",
    "            paths, _, tt_input = self.generate_paths(self.params[\"num_train_paths\"], train_seed)\n",
    "            self.train_ds = TensorDataset(torch.log(paths), tt_input)\n",
    "            paths, _, tt_input = self.generate_paths(self.params[\"num_val_paths\"], val_seed)\n",
    "            self.val_ds = TensorDataset(torch.log(paths), tt_input)\n",
    "            \n",
    "        if stage in [\"test\", \"predict\"]:\n",
    "            paths, _, tt_input = self.generate_paths(self.params[\"num_val_paths\"], val_seed)\n",
    "            self.test_ds = TensorDataset(torch.log(paths), tt_input)\n",
    "    \n",
    "    def train_dataloader(self) -> DataLoader:\n",
    "        data_loader = DataLoader(self.train_ds, batch_size=self.params[\"batch_size\"], shuffle=True)\n",
    "        return data_loader\n",
    "    \n",
    "    def val_dataloader(self) -> DataLoader:\n",
    "        data_loader = DataLoader(self.val_ds, batch_size=self.params[\"batch_size\"])\n",
    "        return data_loader\n",
    "    \n",
    "    def test_dataloader(self) -> DataLoader:\n",
    "        data_loader = DataLoader(self.test_ds, batch_size=self.params[\"batch_size\"])\n",
    "        return data_loader\n",
    "    \n",
    "    def predict_dataloader(self) -> DataLoader:\n",
    "        data_loader = DataLoader(self.test_ds, batch_size=self.params[\"batch_size\"])\n",
    "        return data_loader\n",
    "    \n",
    "    def generate_paths(self, num_paths: int, seed=None) -> Tuple[torch.Tensor]:\n",
    "        if seed is not None:\n",
    "            torch.manual_seed(seed)\n",
    "        tt = torch.linspace(0, self.bs_params[\"T\"], self.bs_params[\"N\"] + 1)  # (N + 1,)\n",
    "        tt_input = torch.sqrt(self.bs_params[\"T\"] - tt)  # (N + 1,)\n",
    "        tt_input = torch.tile(tt_input, (num_paths, 1))  # (num_paths, N + 1)\n",
    "        s0_all = self.bs_params[\"S0\"] * torch.ones(num_paths) # (num_paths,)\n",
    "        paths = [s0_all]\n",
    "        tt_step = self.bs_params[\"T\"] / self.bs_params[\"N\"]\n",
    "        \n",
    "        for i in range(self.bs_params[\"N\"]):\n",
    "            last_step = paths[-1]\n",
    "            Z_iter = torch.randn_like(last_step)\n",
    "            next_step = last_step * torch.exp(-self.bs_params[\"sigma\"] ** 2 / 2 * tt_step + \\\n",
    "                                              self.bs_params[\"sigma\"] * (tt_step ** 0.5) * Z_iter)\n",
    "            paths.append(next_step)\n",
    "        \n",
    "        paths = torch.stack(paths, dim=1)  # (num_paths, N + 1)\n",
    "        \n",
    "        # (num_paths, N + 1), (N + 1,), (num_paths, N + 1)\n",
    "        return paths, tt, tt_input\n",
    "    \n",
    "    @staticmethod\n",
    "    def plot_paths(paths: torch.Tensor, tt: torch.Tensor, **kwargs):\n",
    "        \"\"\"\n",
    "        paths: (num_paths, N + 1)\n",
    "        tt: (N + 1)\n",
    "        \"\"\"\n",
    "        figsize = kwargs.get(\"figsize\", (9.6, 4.8))\n",
    "        paths_df = pd.DataFrame(paths.T, index=tt.tolist())  # (N + 1, num_paths)\n",
    "        fig, axis = plt.subplots(figsize=figsize)\n",
    "        axis = paths_df.plot(kind=\"line\", ax=axis, legend=False)\n",
    "        axis.set_title(\"Simulated Paths\")\n",
    "        axis.set_xlabel(\"Time\")\n",
    "        axis.set_ylabel(\"Stock Price\")\n",
    "        \n",
    "        return fig, axis"
   ]
  },
  {
   "cell_type": "code",
   "execution_count": 10,
   "id": "7e85d015",
   "metadata": {},
   "outputs": [],
   "source": [
    "# Traning and test sets are generated within BSDataModule\n",
    "data_module_params = TRAINING_CONFIGS.copy()\n",
    "data_module_params[\"bs_params\"] = BS_PARAMS.copy()\n",
    "data_module = BSDataModule(data_module_params)\n",
    "data_module.setup(\"fit\")"
   ]
  },
  {
   "cell_type": "code",
   "execution_count": 11,
   "id": "dc60e428",
   "metadata": {},
   "outputs": [
    {
     "data": {
      "image/png": "[encoded data removed]",
      "text/plain": [
       "<Figure size 691.2x345.6 with 1 Axes>"
      ]
     },
     "metadata": {
      "needs_background": "light"
     },
     "output_type": "display_data"
    }
   ],
   "source": [
    "# Generate the training set\n",
    "paths, tt, _ = data_module.generate_paths(TRAINING_CONFIGS[\"num_train_paths\"])\n",
    "\n",
    "# Visualize the first 30 paths\n",
    "_ = BSDataModule.plot_paths(paths[:30, :], tt)"
   ]
  },
  {
   "cell_type": "code",
   "execution_count": 12,
   "id": "46481cfb",
   "metadata": {},
   "outputs": [
    {
     "data": {
      "image/png": "[encoded data removed]",
      "text/plain": [
       "<Figure size 691.2x345.6 with 1 Axes>"
      ]
     },
     "metadata": {
      "needs_background": "light"
     },
     "output_type": "display_data"
    }
   ],
   "source": [
    "# Generate the test set\n",
    "paths, tt, _ = data_module.generate_paths(TRAINING_CONFIGS[\"num_val_paths\"])\n",
    "\n",
    "# Visualize the first 30 paths\n",
    "_ = BSDataModule.plot_paths(paths[:30, :], tt)"
   ]
  },
  {
   "cell_type": "code",
   "execution_count": 13,
   "id": "9f4c2c13",
   "metadata": {},
   "outputs": [
    {
     "name": "stdout",
     "output_type": "stream",
     "text": [
      "torch.Size([2048, 31]), torch.Size([2048, 31])\n",
      "torch.Size([2048, 31]), torch.Size([2048, 31])\n"
     ]
    }
   ],
   "source": [
    "for paths, tt_input in data_module.train_dataloader():\n",
    "    print(f\"{paths.shape}, {tt_input.shape}\")\n",
    "    break\n",
    "\n",
    "for paths, tt_input in data_module.val_dataloader():\n",
    "    print(f\"{paths.shape}, {tt_input.shape}\")\n",
    "    break"
   ]
  },
  {
   "cell_type": "code",
   "execution_count": 14,
   "id": "5a33d7b3",
   "metadata": {},
   "outputs": [],
   "source": [
    "# This is the LightningDataModule used for training & validation\n",
    "data_module_main = BSDataModule(data_module_params)\n",
    "data_module_main.setup(\"fit\")"
   ]
  },
  {
   "cell_type": "markdown",
   "id": "64ae583b",
   "metadata": {},
   "source": [
    "### Question 1.c - Model implementation"
   ]
  },
  {
   "cell_type": "code",
   "execution_count": 15,
   "id": "053ddb0b",
   "metadata": {},
   "outputs": [],
   "source": [
    "# Implement the deep hedging model\n",
    "\n",
    "# You may use and edit the code shown in demo.ipynb\n",
    "class AutonomousModel(nn.Module):\n",
    "    def __init__(self, params: dict):\n",
    "        \"\"\"\n",
    "        params: num_layers, hidden_units, N, bs_params\n",
    "        \"\"\"\n",
    "        super().__init__()\n",
    "        self.params = params\n",
    "        self.bs_params = params[\"bs_params\"]\n",
    "        mlp_params = dict(input_units=1, num_layers=self.params[\"num_layers\"], hidden_units=self.params[\"hidden_units\"])\n",
    "        self.models = nn.ModuleList([MLP(mlp_params) for _ in range(self.params[\"N\"])])\n",
    "    \n",
    "    def forward(self, x, *args):\n",
    "        # x: (B, N + 1)\n",
    "        x = torch.tensor(x)\n",
    "        profit = 0\n",
    "        for t in range(len(self.models)):\n",
    "            stock_price = x[:, t:t + 1]  # (B, 1)\n",
    "            position = self.models[t](stock_price).flatten()  # (B,)\n",
    "            profit += position * (torch.exp(x[:, t + 1]) - torch.exp(x[:, t]))  # (B,)\n",
    "        \n",
    "        short_call_profit = compute_short_call_profit(torch.exp(x[:, 0]), torch.exp(x[:, -1]), **self.bs_params)  # (B,)\n",
    "        hedging_loss = -(profit + short_call_profit)        \n",
    "        \n",
    "        return hedging_loss"
   ]
  },
  {
   "cell_type": "code",
   "execution_count": 16,
   "id": "32a7616e",
   "metadata": {},
   "outputs": [
    {
     "name": "stderr",
     "output_type": "stream",
     "text": [
      "C:\\Users\\lenovo\\AppData\\Local\\Temp\\ipykernel_18668\\3262111560.py:17: UserWarning: To copy construct from a tensor, it is recommended to use sourceTensor.clone().detach() or sourceTensor.clone().detach().requires_grad_(True), rather than torch.tensor(sourceTensor).\n",
      "  x = torch.tensor(x)\n"
     ]
    },
    {
     "data": {
      "text/plain": [
       "torch.Size([2048])"
      ]
     },
     "execution_count": 16,
     "metadata": {},
     "output_type": "execute_result"
    }
   ],
   "source": [
    "# Sanity check on output shape\n",
    "model_params = {\n",
    "    \"num_layers\": 8,\n",
    "    \"hidden_units\": 64,\n",
    "    \"N\": BS_PARAMS[\"N\"],\n",
    "    \"bs_params\": BS_PARAMS.copy(),\n",
    "}\n",
    "\n",
    "data_module_params = TRAINING_CONFIGS.copy()\n",
    "data_module_params[\"bs_params\"] = BS_PARAMS.copy()\n",
    "data_module = BSDataModule(data_module_params)\n",
    "data_module.setup(\"fit\")\n",
    "for x, tt in data_module.train_dataloader():\n",
    "    break\n",
    "\n",
    "model = AutonomousModel(model_params)\n",
    "hedge_loss = model(x, tt)\n",
    "hedge_loss.shape"
   ]
  },
  {
   "cell_type": "code",
   "execution_count": 17,
   "id": "c2d01b3f",
   "metadata": {},
   "outputs": [
    {
     "name": "stderr",
     "output_type": "stream",
     "text": [
      "GPU available: True (cuda), used: True\n",
      "TPU available: False, using: 0 TPU cores\n",
      "HPU available: False, using: 0 HPUs\n",
      "Running in `fast_dev_run` mode: will run the requested loop using 100 batch(es). Logging and checkpointing is suppressed.\n",
      "LOCAL_RANK: 0 - CUDA_VISIBLE_DEVICES: [0]\n",
      "\n",
      "  | Name  | Type            | Params | Mode \n",
      "--------------------------------------------------\n",
      "0 | model | AutonomousModel | 754 K  | train\n",
      "--------------------------------------------------\n",
      "754 K     Trainable params\n",
      "0         Non-trainable params\n",
      "754 K     Total params\n",
      "3.018     Total estimated model params size (MB)\n",
      "872       Modules in train mode\n",
      "0         Modules in eval mode\n",
      "D:\\python\\venvs\\DeepLearning\\lib\\site-packages\\lightning\\pytorch\\trainer\\connectors\\data_connector.py:424: The 'train_dataloader' does not have many workers which may be a bottleneck. Consider increasing the value of the `num_workers` argument` to `num_workers=15` in the `DataLoader` to improve performance.\n",
      "D:\\python\\venvs\\DeepLearning\\lib\\site-packages\\lightning\\pytorch\\trainer\\connectors\\data_connector.py:424: The 'val_dataloader' does not have many workers which may be a bottleneck. Consider increasing the value of the `num_workers` argument` to `num_workers=15` in the `DataLoader` to improve performance.\n"
     ]
    },
    {
     "data": {
      "application/vnd.jupyter.widget-view+json": {
       "model_id": "d7ad6937d29b4444bf22cf75bfa1b8ac",
       "version_major": 2,
       "version_minor": 0
      },
      "text/plain": [
       "Training: |                                                                                                   …"
      ]
     },
     "metadata": {},
     "output_type": "display_data"
    },
    {
     "name": "stderr",
     "output_type": "stream",
     "text": [
      "C:\\Users\\lenovo\\AppData\\Local\\Temp\\ipykernel_18668\\3262111560.py:17: UserWarning: To copy construct from a tensor, it is recommended to use sourceTensor.clone().detach() or sourceTensor.clone().detach().requires_grad_(True), rather than torch.tensor(sourceTensor).\n",
      "  x = torch.tensor(x)\n"
     ]
    },
    {
     "data": {
      "application/vnd.jupyter.widget-view+json": {
       "model_id": "",
       "version_major": 2,
       "version_minor": 0
      },
      "text/plain": [
       "Validation: |                                                                                                 …"
      ]
     },
     "metadata": {},
     "output_type": "display_data"
    },
    {
     "name": "stderr",
     "output_type": "stream",
     "text": [
      "`Trainer.fit` stopped: `max_epochs=1` reached.\n"
     ]
    }
   ],
   "source": [
    "# Debug model\n",
    "trainer = pl.Trainer(fast_dev_run=100, num_sanity_val_steps=-1)\n",
    "pl_model = HedgingLModule(model, TRAINING_CONFIGS)\n",
    "trainer.fit(pl_model, datamodule=data_module)"
   ]
  },
  {
   "cell_type": "markdown",
   "id": "fa09a190",
   "metadata": {},
   "source": [
    "### Question 1.d - Model training"
   ]
  },
  {
   "cell_type": "code",
   "execution_count": 18,
   "id": "4298c4b6",
   "metadata": {},
   "outputs": [],
   "source": [
    "# Implement the payoff function of a call option\n",
    "\n",
    "# Implement a function that returns the Black-Scholes price of a call option with given strike and maturity\n",
    "\n",
    "# Train the model"
   ]
  },
  {
   "cell_type": "code",
   "execution_count": 19,
   "id": "a20c81b0",
   "metadata": {
    "scrolled": true
   },
   "outputs": [],
   "source": [
    "# # Uncomment this cell to tune the model. Output is cleared for readability of assignment submission\n",
    "# model_params = {\n",
    "#     \"num_layers\": 8,  # will be replaced\n",
    "#     \"hidden_units\": 64,  # will be replaced\n",
    "#     \"N\": BS_PARAMS[\"N\"],\n",
    "#     \"bs_params\": BS_PARAMS.copy(),\n",
    "# }\n",
    "# objective_func = train_main(\n",
    "#     AutonomousModel, \n",
    "#     data_module_main, \n",
    "#     model_params, \n",
    "#     TRAINING_CONFIGS, \n",
    "# )\n",
    "# pruner = MedianPruner()\n",
    "# study = optuna.create_study(direction=\"minimize\", pruner=pruner)\n",
    "# study.optimize(objective_func, **TUNING_PARAMS)\n",
    "\n",
    "# with open(f\"{AutonomousModel.__name__}_study.pkl\", \"wb\") as wf:\n",
    "#     pickle.dump(study, wf)\n",
    "    \n",
    "# study.best_trial.params"
   ]
  },
  {
   "cell_type": "code",
   "execution_count": 20,
   "id": "fe1886a0",
   "metadata": {},
   "outputs": [
    {
     "data": {
      "text/html": [
       "<div>\n",
       "<style scoped>\n",
       "    .dataframe tbody tr th:only-of-type {\n",
       "        vertical-align: middle;\n",
       "    }\n",
       "\n",
       "    .dataframe tbody tr th {\n",
       "        vertical-align: top;\n",
       "    }\n",
       "\n",
       "    .dataframe thead th {\n",
       "        text-align: right;\n",
       "    }\n",
       "</style>\n",
       "<table border=\"1\" class=\"dataframe\">\n",
       "  <thead>\n",
       "    <tr style=\"text-align: right;\">\n",
       "      <th></th>\n",
       "      <th>number</th>\n",
       "      <th>value</th>\n",
       "      <th>datetime_start</th>\n",
       "      <th>datetime_complete</th>\n",
       "      <th>duration</th>\n",
       "      <th>params_hidden_units</th>\n",
       "      <th>params_num_layers</th>\n",
       "      <th>state</th>\n",
       "    </tr>\n",
       "  </thead>\n",
       "  <tbody>\n",
       "    <tr>\n",
       "      <th>3</th>\n",
       "      <td>3</td>\n",
       "      <td>0.000081</td>\n",
       "      <td>2024-11-08 17:34:29.768315</td>\n",
       "      <td>2024-11-08 17:37:50.066137</td>\n",
       "      <td>0 days 00:03:20.297822</td>\n",
       "      <td>65</td>\n",
       "      <td>7</td>\n",
       "      <td>COMPLETE</td>\n",
       "    </tr>\n",
       "    <tr>\n",
       "      <th>0</th>\n",
       "      <td>0</td>\n",
       "      <td>0.000082</td>\n",
       "      <td>2024-11-08 17:23:51.826933</td>\n",
       "      <td>2024-11-08 17:27:28.078029</td>\n",
       "      <td>0 days 00:03:36.251096</td>\n",
       "      <td>196</td>\n",
       "      <td>7</td>\n",
       "      <td>COMPLETE</td>\n",
       "    </tr>\n",
       "    <tr>\n",
       "      <th>2</th>\n",
       "      <td>2</td>\n",
       "      <td>0.000082</td>\n",
       "      <td>2024-11-08 17:30:33.696617</td>\n",
       "      <td>2024-11-08 17:34:29.767330</td>\n",
       "      <td>0 days 00:03:56.070713</td>\n",
       "      <td>50</td>\n",
       "      <td>9</td>\n",
       "      <td>COMPLETE</td>\n",
       "    </tr>\n",
       "    <tr>\n",
       "      <th>1</th>\n",
       "      <td>1</td>\n",
       "      <td>0.000082</td>\n",
       "      <td>2024-11-08 17:27:28.079022</td>\n",
       "      <td>2024-11-08 17:30:33.694614</td>\n",
       "      <td>0 days 00:03:05.615592</td>\n",
       "      <td>37</td>\n",
       "      <td>6</td>\n",
       "      <td>COMPLETE</td>\n",
       "    </tr>\n",
       "    <tr>\n",
       "      <th>4</th>\n",
       "      <td>4</td>\n",
       "      <td>0.000082</td>\n",
       "      <td>2024-11-08 17:37:50.067137</td>\n",
       "      <td>2024-11-08 17:40:00.732562</td>\n",
       "      <td>0 days 00:02:10.665425</td>\n",
       "      <td>41</td>\n",
       "      <td>3</td>\n",
       "      <td>COMPLETE</td>\n",
       "    </tr>\n",
       "    <tr>\n",
       "      <th>28</th>\n",
       "      <td>28</td>\n",
       "      <td>0.000089</td>\n",
       "      <td>2024-11-08 17:42:46.839184</td>\n",
       "      <td>2024-11-08 17:43:19.296861</td>\n",
       "      <td>0 days 00:00:32.457677</td>\n",
       "      <td>48</td>\n",
       "      <td>8</td>\n",
       "      <td>PRUNED</td>\n",
       "    </tr>\n",
       "    <tr>\n",
       "      <th>24</th>\n",
       "      <td>24</td>\n",
       "      <td>0.000090</td>\n",
       "      <td>2024-11-08 17:42:04.525260</td>\n",
       "      <td>2024-11-08 17:42:31.815428</td>\n",
       "      <td>0 days 00:00:27.290168</td>\n",
       "      <td>62</td>\n",
       "      <td>6</td>\n",
       "      <td>PRUNED</td>\n",
       "    </tr>\n",
       "    <tr>\n",
       "      <th>23</th>\n",
       "      <td>23</td>\n",
       "      <td>0.000094</td>\n",
       "      <td>2024-11-08 17:41:41.775611</td>\n",
       "      <td>2024-11-08 17:42:04.524259</td>\n",
       "      <td>0 days 00:00:22.748648</td>\n",
       "      <td>44</td>\n",
       "      <td>8</td>\n",
       "      <td>PRUNED</td>\n",
       "    </tr>\n",
       "    <tr>\n",
       "      <th>5</th>\n",
       "      <td>5</td>\n",
       "      <td>0.000094</td>\n",
       "      <td>2024-11-08 17:40:00.733570</td>\n",
       "      <td>2024-11-08 17:40:17.871075</td>\n",
       "      <td>0 days 00:00:17.137505</td>\n",
       "      <td>57</td>\n",
       "      <td>5</td>\n",
       "      <td>PRUNED</td>\n",
       "    </tr>\n",
       "    <tr>\n",
       "      <th>29</th>\n",
       "      <td>29</td>\n",
       "      <td>0.000098</td>\n",
       "      <td>2024-11-08 17:43:19.297866</td>\n",
       "      <td>2024-11-08 17:43:34.488944</td>\n",
       "      <td>0 days 00:00:15.191078</td>\n",
       "      <td>37</td>\n",
       "      <td>6</td>\n",
       "      <td>PRUNED</td>\n",
       "    </tr>\n",
       "    <tr>\n",
       "      <th>9</th>\n",
       "      <td>9</td>\n",
       "      <td>0.000124</td>\n",
       "      <td>2024-11-08 17:40:33.612695</td>\n",
       "      <td>2024-11-08 17:40:41.757248</td>\n",
       "      <td>0 days 00:00:08.144553</td>\n",
       "      <td>89</td>\n",
       "      <td>3</td>\n",
       "      <td>PRUNED</td>\n",
       "    </tr>\n",
       "    <tr>\n",
       "      <th>6</th>\n",
       "      <td>6</td>\n",
       "      <td>0.000173</td>\n",
       "      <td>2024-11-08 17:40:17.872078</td>\n",
       "      <td>2024-11-08 17:40:23.338092</td>\n",
       "      <td>0 days 00:00:05.466014</td>\n",
       "      <td>51</td>\n",
       "      <td>3</td>\n",
       "      <td>PRUNED</td>\n",
       "    </tr>\n",
       "    <tr>\n",
       "      <th>14</th>\n",
       "      <td>14</td>\n",
       "      <td>0.000487</td>\n",
       "      <td>2024-11-08 17:40:59.733668</td>\n",
       "      <td>2024-11-08 17:41:04.389584</td>\n",
       "      <td>0 days 00:00:04.655916</td>\n",
       "      <td>86</td>\n",
       "      <td>7</td>\n",
       "      <td>PRUNED</td>\n",
       "    </tr>\n",
       "    <tr>\n",
       "      <th>20</th>\n",
       "      <td>20</td>\n",
       "      <td>0.000491</td>\n",
       "      <td>2024-11-08 17:41:28.447802</td>\n",
       "      <td>2024-11-08 17:41:31.720553</td>\n",
       "      <td>0 days 00:00:03.272751</td>\n",
       "      <td>32</td>\n",
       "      <td>4</td>\n",
       "      <td>PRUNED</td>\n",
       "    </tr>\n",
       "    <tr>\n",
       "      <th>21</th>\n",
       "      <td>21</td>\n",
       "      <td>0.000522</td>\n",
       "      <td>2024-11-08 17:41:31.721553</td>\n",
       "      <td>2024-11-08 17:41:36.865780</td>\n",
       "      <td>0 days 00:00:05.144227</td>\n",
       "      <td>54</td>\n",
       "      <td>9</td>\n",
       "      <td>PRUNED</td>\n",
       "    </tr>\n",
       "    <tr>\n",
       "      <th>25</th>\n",
       "      <td>25</td>\n",
       "      <td>0.000580</td>\n",
       "      <td>2024-11-08 17:42:31.816427</td>\n",
       "      <td>2024-11-08 17:42:36.166702</td>\n",
       "      <td>0 days 00:00:04.350275</td>\n",
       "      <td>100</td>\n",
       "      <td>7</td>\n",
       "      <td>PRUNED</td>\n",
       "    </tr>\n",
       "    <tr>\n",
       "      <th>27</th>\n",
       "      <td>27</td>\n",
       "      <td>0.000601</td>\n",
       "      <td>2024-11-08 17:42:41.310937</td>\n",
       "      <td>2024-11-08 17:42:46.837186</td>\n",
       "      <td>0 days 00:00:05.526249</td>\n",
       "      <td>44</td>\n",
       "      <td>10</td>\n",
       "      <td>PRUNED</td>\n",
       "    </tr>\n",
       "    <tr>\n",
       "      <th>16</th>\n",
       "      <td>16</td>\n",
       "      <td>0.000643</td>\n",
       "      <td>2024-11-08 17:41:09.280718</td>\n",
       "      <td>2024-11-08 17:41:13.200316</td>\n",
       "      <td>0 days 00:00:03.919598</td>\n",
       "      <td>185</td>\n",
       "      <td>5</td>\n",
       "      <td>PRUNED</td>\n",
       "    </tr>\n",
       "    <tr>\n",
       "      <th>22</th>\n",
       "      <td>22</td>\n",
       "      <td>0.000658</td>\n",
       "      <td>2024-11-08 17:41:36.866779</td>\n",
       "      <td>2024-11-08 17:41:41.774612</td>\n",
       "      <td>0 days 00:00:04.907833</td>\n",
       "      <td>70</td>\n",
       "      <td>9</td>\n",
       "      <td>PRUNED</td>\n",
       "    </tr>\n",
       "    <tr>\n",
       "      <th>12</th>\n",
       "      <td>12</td>\n",
       "      <td>0.000682</td>\n",
       "      <td>2024-11-08 17:40:51.388168</td>\n",
       "      <td>2024-11-08 17:40:55.823170</td>\n",
       "      <td>0 days 00:00:04.435002</td>\n",
       "      <td>123</td>\n",
       "      <td>7</td>\n",
       "      <td>PRUNED</td>\n",
       "    </tr>\n",
       "    <tr>\n",
       "      <th>26</th>\n",
       "      <td>26</td>\n",
       "      <td>0.000764</td>\n",
       "      <td>2024-11-08 17:42:36.167707</td>\n",
       "      <td>2024-11-08 17:42:41.309937</td>\n",
       "      <td>0 days 00:00:05.142230</td>\n",
       "      <td>79</td>\n",
       "      <td>9</td>\n",
       "      <td>PRUNED</td>\n",
       "    </tr>\n",
       "    <tr>\n",
       "      <th>13</th>\n",
       "      <td>13</td>\n",
       "      <td>0.000766</td>\n",
       "      <td>2024-11-08 17:40:55.824162</td>\n",
       "      <td>2024-11-08 17:40:59.732668</td>\n",
       "      <td>0 days 00:00:03.908506</td>\n",
       "      <td>237</td>\n",
       "      <td>5</td>\n",
       "      <td>PRUNED</td>\n",
       "    </tr>\n",
       "    <tr>\n",
       "      <th>8</th>\n",
       "      <td>8</td>\n",
       "      <td>0.000786</td>\n",
       "      <td>2024-11-08 17:40:27.918881</td>\n",
       "      <td>2024-11-08 17:40:33.610694</td>\n",
       "      <td>0 days 00:00:05.691813</td>\n",
       "      <td>68</td>\n",
       "      <td>10</td>\n",
       "      <td>PRUNED</td>\n",
       "    </tr>\n",
       "    <tr>\n",
       "      <th>17</th>\n",
       "      <td>17</td>\n",
       "      <td>0.000820</td>\n",
       "      <td>2024-11-08 17:41:13.201318</td>\n",
       "      <td>2024-11-08 17:41:18.882455</td>\n",
       "      <td>0 days 00:00:05.681137</td>\n",
       "      <td>73</td>\n",
       "      <td>10</td>\n",
       "      <td>PRUNED</td>\n",
       "    </tr>\n",
       "    <tr>\n",
       "      <th>15</th>\n",
       "      <td>15</td>\n",
       "      <td>0.000910</td>\n",
       "      <td>2024-11-08 17:41:04.390592</td>\n",
       "      <td>2024-11-08 17:41:09.279716</td>\n",
       "      <td>0 days 00:00:04.889124</td>\n",
       "      <td>120</td>\n",
       "      <td>8</td>\n",
       "      <td>PRUNED</td>\n",
       "    </tr>\n",
       "    <tr>\n",
       "      <th>10</th>\n",
       "      <td>10</td>\n",
       "      <td>0.000931</td>\n",
       "      <td>2024-11-08 17:40:41.758248</td>\n",
       "      <td>2024-11-08 17:40:46.351125</td>\n",
       "      <td>0 days 00:00:04.592877</td>\n",
       "      <td>144</td>\n",
       "      <td>8</td>\n",
       "      <td>PRUNED</td>\n",
       "    </tr>\n",
       "    <tr>\n",
       "      <th>7</th>\n",
       "      <td>7</td>\n",
       "      <td>0.000937</td>\n",
       "      <td>2024-11-08 17:40:23.339093</td>\n",
       "      <td>2024-11-08 17:40:27.917878</td>\n",
       "      <td>0 days 00:00:04.578785</td>\n",
       "      <td>247</td>\n",
       "      <td>6</td>\n",
       "      <td>PRUNED</td>\n",
       "    </tr>\n",
       "    <tr>\n",
       "      <th>11</th>\n",
       "      <td>11</td>\n",
       "      <td>0.000950</td>\n",
       "      <td>2024-11-08 17:40:46.352127</td>\n",
       "      <td>2024-11-08 17:40:51.387169</td>\n",
       "      <td>0 days 00:00:05.035042</td>\n",
       "      <td>160</td>\n",
       "      <td>8</td>\n",
       "      <td>PRUNED</td>\n",
       "    </tr>\n",
       "    <tr>\n",
       "      <th>19</th>\n",
       "      <td>19</td>\n",
       "      <td>0.001015</td>\n",
       "      <td>2024-11-08 17:41:23.803555</td>\n",
       "      <td>2024-11-08 17:41:28.446799</td>\n",
       "      <td>0 days 00:00:04.643244</td>\n",
       "      <td>191</td>\n",
       "      <td>7</td>\n",
       "      <td>PRUNED</td>\n",
       "    </tr>\n",
       "    <tr>\n",
       "      <th>18</th>\n",
       "      <td>18</td>\n",
       "      <td>0.001096</td>\n",
       "      <td>2024-11-08 17:41:18.883454</td>\n",
       "      <td>2024-11-08 17:41:23.802554</td>\n",
       "      <td>0 days 00:00:04.919100</td>\n",
       "      <td>111</td>\n",
       "      <td>9</td>\n",
       "      <td>PRUNED</td>\n",
       "    </tr>\n",
       "  </tbody>\n",
       "</table>\n",
       "</div>"
      ],
      "text/plain": [
       "    number     value             datetime_start          datetime_complete  \\\n",
       "3        3  0.000081 2024-11-08 17:34:29.768315 2024-11-08 17:37:50.066137   \n",
       "0        0  0.000082 2024-11-08 17:23:51.826933 2024-11-08 17:27:28.078029   \n",
       "2        2  0.000082 2024-11-08 17:30:33.696617 2024-11-08 17:34:29.767330   \n",
       "1        1  0.000082 2024-11-08 17:27:28.079022 2024-11-08 17:30:33.694614   \n",
       "4        4  0.000082 2024-11-08 17:37:50.067137 2024-11-08 17:40:00.732562   \n",
       "28      28  0.000089 2024-11-08 17:42:46.839184 2024-11-08 17:43:19.296861   \n",
       "24      24  0.000090 2024-11-08 17:42:04.525260 2024-11-08 17:42:31.815428   \n",
       "23      23  0.000094 2024-11-08 17:41:41.775611 2024-11-08 17:42:04.524259   \n",
       "5        5  0.000094 2024-11-08 17:40:00.733570 2024-11-08 17:40:17.871075   \n",
       "29      29  0.000098 2024-11-08 17:43:19.297866 2024-11-08 17:43:34.488944   \n",
       "9        9  0.000124 2024-11-08 17:40:33.612695 2024-11-08 17:40:41.757248   \n",
       "6        6  0.000173 2024-11-08 17:40:17.872078 2024-11-08 17:40:23.338092   \n",
       "14      14  0.000487 2024-11-08 17:40:59.733668 2024-11-08 17:41:04.389584   \n",
       "20      20  0.000491 2024-11-08 17:41:28.447802 2024-11-08 17:41:31.720553   \n",
       "21      21  0.000522 2024-11-08 17:41:31.721553 2024-11-08 17:41:36.865780   \n",
       "25      25  0.000580 2024-11-08 17:42:31.816427 2024-11-08 17:42:36.166702   \n",
       "27      27  0.000601 2024-11-08 17:42:41.310937 2024-11-08 17:42:46.837186   \n",
       "16      16  0.000643 2024-11-08 17:41:09.280718 2024-11-08 17:41:13.200316   \n",
       "22      22  0.000658 2024-11-08 17:41:36.866779 2024-11-08 17:41:41.774612   \n",
       "12      12  0.000682 2024-11-08 17:40:51.388168 2024-11-08 17:40:55.823170   \n",
       "26      26  0.000764 2024-11-08 17:42:36.167707 2024-11-08 17:42:41.309937   \n",
       "13      13  0.000766 2024-11-08 17:40:55.824162 2024-11-08 17:40:59.732668   \n",
       "8        8  0.000786 2024-11-08 17:40:27.918881 2024-11-08 17:40:33.610694   \n",
       "17      17  0.000820 2024-11-08 17:41:13.201318 2024-11-08 17:41:18.882455   \n",
       "15      15  0.000910 2024-11-08 17:41:04.390592 2024-11-08 17:41:09.279716   \n",
       "10      10  0.000931 2024-11-08 17:40:41.758248 2024-11-08 17:40:46.351125   \n",
       "7        7  0.000937 2024-11-08 17:40:23.339093 2024-11-08 17:40:27.917878   \n",
       "11      11  0.000950 2024-11-08 17:40:46.352127 2024-11-08 17:40:51.387169   \n",
       "19      19  0.001015 2024-11-08 17:41:23.803555 2024-11-08 17:41:28.446799   \n",
       "18      18  0.001096 2024-11-08 17:41:18.883454 2024-11-08 17:41:23.802554   \n",
       "\n",
       "                 duration  params_hidden_units  params_num_layers     state  \n",
       "3  0 days 00:03:20.297822                   65                  7  COMPLETE  \n",
       "0  0 days 00:03:36.251096                  196                  7  COMPLETE  \n",
       "2  0 days 00:03:56.070713                   50                  9  COMPLETE  \n",
       "1  0 days 00:03:05.615592                   37                  6  COMPLETE  \n",
       "4  0 days 00:02:10.665425                   41                  3  COMPLETE  \n",
       "28 0 days 00:00:32.457677                   48                  8    PRUNED  \n",
       "24 0 days 00:00:27.290168                   62                  6    PRUNED  \n",
       "23 0 days 00:00:22.748648                   44                  8    PRUNED  \n",
       "5  0 days 00:00:17.137505                   57                  5    PRUNED  \n",
       "29 0 days 00:00:15.191078                   37                  6    PRUNED  \n",
       "9  0 days 00:00:08.144553                   89                  3    PRUNED  \n",
       "6  0 days 00:00:05.466014                   51                  3    PRUNED  \n",
       "14 0 days 00:00:04.655916                   86                  7    PRUNED  \n",
       "20 0 days 00:00:03.272751                   32                  4    PRUNED  \n",
       "21 0 days 00:00:05.144227                   54                  9    PRUNED  \n",
       "25 0 days 00:00:04.350275                  100                  7    PRUNED  \n",
       "27 0 days 00:00:05.526249                   44                 10    PRUNED  \n",
       "16 0 days 00:00:03.919598                  185                  5    PRUNED  \n",
       "22 0 days 00:00:04.907833                   70                  9    PRUNED  \n",
       "12 0 days 00:00:04.435002                  123                  7    PRUNED  \n",
       "26 0 days 00:00:05.142230                   79                  9    PRUNED  \n",
       "13 0 days 00:00:03.908506                  237                  5    PRUNED  \n",
       "8  0 days 00:00:05.691813                   68                 10    PRUNED  \n",
       "17 0 days 00:00:05.681137                   73                 10    PRUNED  \n",
       "15 0 days 00:00:04.889124                  120                  8    PRUNED  \n",
       "10 0 days 00:00:04.592877                  144                  8    PRUNED  \n",
       "7  0 days 00:00:04.578785                  247                  6    PRUNED  \n",
       "11 0 days 00:00:05.035042                  160                  8    PRUNED  \n",
       "19 0 days 00:00:04.643244                  191                  7    PRUNED  \n",
       "18 0 days 00:00:04.919100                  111                  9    PRUNED  "
      ]
     },
     "execution_count": 20,
     "metadata": {},
     "output_type": "execute_result"
    }
   ],
   "source": [
    "with open(f\"submissions/{AutonomousModel.__name__}_study.pkl\", \"rb\") as rf:\n",
    "    study = pickle.load(rf)\n",
    "\n",
    "study.trials_dataframe().sort_values(\"value\", ascending=True)"
   ]
  },
  {
   "cell_type": "markdown",
   "id": "997e1ffc",
   "metadata": {},
   "source": [
    "### Question 1.e - Model evaluation"
   ]
  },
  {
   "cell_type": "code",
   "execution_count": 21,
   "id": "84240871",
   "metadata": {},
   "outputs": [],
   "source": [
    "# Evaluate the hedging losses on the test set\n",
    "\n",
    "# Plot a histogram of the hedging losses and print mean and standard deviation"
   ]
  },
  {
   "cell_type": "code",
   "execution_count": 22,
   "id": "8670b339",
   "metadata": {},
   "outputs": [
    {
     "name": "stderr",
     "output_type": "stream",
     "text": [
      "GPU available: True (cuda), used: True\n",
      "TPU available: False, using: 0 TPU cores\n",
      "HPU available: False, using: 0 HPUs\n",
      "LOCAL_RANK: 0 - CUDA_VISIBLE_DEVICES: [0]\n",
      "D:\\python\\venvs\\DeepLearning\\lib\\site-packages\\lightning\\pytorch\\trainer\\connectors\\data_connector.py:424: The 'predict_dataloader' does not have many workers which may be a bottleneck. Consider increasing the value of the `num_workers` argument` to `num_workers=15` in the `DataLoader` to improve performance.\n"
     ]
    },
    {
     "data": {
      "application/vnd.jupyter.widget-view+json": {
       "model_id": "ace2af50d9b44ce291a1694c4de285ee",
       "version_major": 2,
       "version_minor": 0
      },
      "text/plain": [
       "Predicting: |                                                                                                 …"
      ]
     },
     "metadata": {},
     "output_type": "display_data"
    },
    {
     "name": "stderr",
     "output_type": "stream",
     "text": [
      "C:\\Users\\lenovo\\AppData\\Local\\Temp\\ipykernel_18668\\3262111560.py:17: UserWarning: To copy construct from a tensor, it is recommended to use sourceTensor.clone().detach() or sourceTensor.clone().detach().requires_grad_(True), rather than torch.tensor(sourceTensor).\n",
      "  x = torch.tensor(x)\n"
     ]
    },
    {
     "data": {
      "text/plain": [
       "((10000,), 2.9562325477600098)"
      ]
     },
     "execution_count": 22,
     "metadata": {},
     "output_type": "execute_result"
    }
   ],
   "source": [
    "model_params = {\n",
    "    \"num_layers\": 8,  # will be replaced\n",
    "    \"hidden_units\": 64,  # will be replaced\n",
    "    \"N\": BS_PARAMS[\"N\"],\n",
    "    \"bs_params\": BS_PARAMS.copy(),\n",
    "}\n",
    "model_params.update(study.best_params)\n",
    "model = AutonomousModel(model_params)\n",
    "pl_model_auto = HedgingLModule.load_from_checkpoint(\n",
    "    \"submissions/ckpts/AutonomousModel/num_layers_7__hidden_units_65/epoch=49_val_hedge_loss=8.132e-05.ckpt\",\n",
    "    model=model,\n",
    "    params=TRAINING_CONFIGS,\n",
    ")\n",
    "trainer = pl.Trainer()\n",
    "time_start = time.time()\n",
    "hedge_losses = predict(trainer, pl_model_auto, data_module_main)\n",
    "time_end = time.time()\n",
    "auto_eval_runtime = time_end - time_start\n",
    "hedge_losses.shape, auto_eval_runtime"
   ]
  },
  {
   "cell_type": "code",
   "execution_count": 23,
   "id": "73508170",
   "metadata": {},
   "outputs": [
    {
     "name": "stdout",
     "output_type": "stream",
     "text": [
      "Average square hedge losses: 8.132e-05\n"
     ]
    },
    {
     "data": {
      "image/png": "[encoded data removed]",
      "text/plain": [
       "<Figure size 691.2x345.6 with 1 Axes>"
      ]
     },
     "metadata": {
      "needs_background": "light"
     },
     "output_type": "display_data"
    }
   ],
   "source": [
    "def evaluate_model(hedge_losses: Union[torch.Tensor, np.ndarray]):\n",
    "    if isinstance(hedge_losses, torch.Tensor):\n",
    "        hedge_losses = hedge_losses.cpu().numpy()\n",
    "    hedge_losses_mse = (hedge_losses ** 2).mean()\n",
    "    fig, axis = plt.subplots(figsize=(9.6, 4.8))\n",
    "    axis.hist(hedge_losses, bins=50)\n",
    "    axis.set_title(f\"Mean = {hedge_losses.mean():.3e}, Std = {hedge_losses.std():.3e}\")\n",
    "    print(f\"Average square hedge losses: {hedge_losses_mse:.3e}\")\n",
    "    \n",
    "    return fig, axis\n",
    "\n",
    "_ = evaluate_model(hedge_losses)"
   ]
  },
  {
   "cell_type": "markdown",
   "id": "7e0d58e5",
   "metadata": {},
   "source": [
    "A few questions for you to consider...\n",
    "\n",
    "Have you trained your model well?\n",
    "- Are the losses centered on zero?\n",
    "- Is their standard deviation sufficiently small?\n",
    "\n",
    "How can you improve performance?\n",
    "- train for more epochs\n",
    "- try different batch sizes\n",
    "- try a different learning rate\n",
    "- use a learning rate scheduler (see https://pytorch.org/docs/stable/optim.html#how-to-adjust-learning-rate)\n",
    "- try a different activation function\n",
    "- change the networks' architectures (more/less hidden neurons, more/less hidden layers)\n",
    "- reduce/increase the learning rate\n",
    "- implement regularization (use the `weight_decay` argument in the optimizer)\n",
    "- implement batch-normalization (see https://pytorch.org/docs/stable/generated/torch.nn.BatchNorm1d.html)\n",
    "- experiment with different optimizers\n",
    "- ask in the forum"
   ]
  },
  {
   "cell_type": "markdown",
   "id": "50c6ffd9",
   "metadata": {},
   "source": [
    "# Exercise 2"
   ]
  },
  {
   "cell_type": "markdown",
   "id": "c17aa10f-12c9-4099-9658-f5c5cd80aa79",
   "metadata": {},
   "source": [
    "### Question 2.a - Compute analytical solution"
   ]
  },
  {
   "cell_type": "markdown",
   "id": "968df7f8",
   "metadata": {},
   "source": [
    "Show a **step-by-step** derivation of the analytical hedging strategy.\n",
    "\n",
    "<span style=\"color: blue;\"><b>Solution:</b></span>\n",
    "\n",
    "$$\\begin{align*}\n",
    "    H^{\\text{BS}}_t(s) & = \\frac{\\partial C(s, t)}{\\partial s} \\\\\n",
    "    & = \\phi(d_+)\\frac{\\partial d_+}{\\partial s}s + \\Phi(d_+) - \\phi(d_-)\\frac{\\partial d_-}{\\partial s}K\\exp(-r(T - t))  \\tag{1}\n",
    "\\end{align*}$$\n",
    "\n",
    "We have\n",
    "$$\\begin{align*}\n",
    "    \\frac{\\partial d_+}{\\partial s} = \\frac{\\partial d_-}{\\partial s} = \\frac{1}{\\sigma \\sqrt{T - t}}\\frac{1}{s}  \\tag{2} \n",
    "\\end{align*}$$\n",
    "\n",
    "Furthermore,\n",
    "$$\n",
    "\\begin{align*}\n",
    "    \\phi(d_-) &= \\frac{1}{\\sqrt{2\\pi}}\\exp(-\\frac{1}{2}\\big(d_+ - \\sigma\\sqrt{T - t})^2\\big)\\\\\n",
    "    &= \\frac{1}{\\sqrt{2\\pi}}\\exp\\big(-\\frac{1}{2}(d_+^2 - 2d_+\\cdot\\sigma\\sqrt{T - t} + \\sigma^2(T - t))\\big)\\\\\n",
    "    &= \\phi(d_+) \\cdot \\exp\\big(d_+\\cdot\\sigma\\sqrt{T - t} - \\frac{1}{2}\\sigma^2(T - t)\\big) \\tag{3}\n",
    "\\end{align*}\n",
    "$$\n",
    "\n",
    "We have\n",
    "$$\n",
    "\\begin{align*}\n",
    "    d_+\\cdot\\sigma\\sqrt{T - t} - \\frac{1}{2}\\sigma^2(T - t) &= \\log\\frac{s}{K} + (r + \\frac{\\sigma^2}{2})(T - t) - \\frac{1}{2}\\sigma^2(T - t)\\\\\n",
    "    &= \\log\\frac{s}{K} + r(T - t)  \\tag{4}\n",
    "\\end{align*}\n",
    "$$\n",
    "Plugging (4) into (3), we have\n",
    "$$\n",
    "\\begin{align*}\n",
    "    \\phi(d_-) = \\phi(d_+)\\frac{s}{K}\\exp\\big(r(T - t)\\big)  \\tag{5}\n",
    "\\end{align*}\n",
    "$$\n",
    "From (1), (2) and (5):\n",
    "$$\n",
    "\\begin{align*}\n",
    "    H^{\\text{BS}}_t(s) &= \\phi(d_+)\\frac{\\partial d_+}{\\partial s}s + \\Phi(d_+) - \\phi(d_-)\\frac{\\partial d_-}{\\partial s}K\\exp(-r(T - t))\\\\\n",
    "    &= \\Phi(d_+) + \\phi(d_+)\\frac{1}{\\sigma\\sqrt{T - t}} - \\phi(d_-)\\frac{1}{\\sigma\\sqrt{T - t}}\\frac{K}{s}\\exp\\big(-r(T - t)\\big)\\\\\n",
    "    &= \\Phi(d_+) + \\phi(d_+)\\frac{1}{\\sigma\\sqrt{T - t}} - \\phi(d_+)\\frac{s}{K}\\exp\\big(-r(T - t)\\big)\\frac{1}{\\sigma\\sqrt{T - t}}\\frac{K}{s}\\exp\\big(r(T - t)\\big)\\\\\n",
    "    &= \\Phi(d_+)\n",
    "\\end{align*}\n",
    "$$"
   ]
  },
  {
   "cell_type": "markdown",
   "id": "533fd342-036a-47bd-92e7-cf5d0803be6b",
   "metadata": {},
   "source": [
    "### Question 2.b - Analytical solution evaluation"
   ]
  },
  {
   "cell_type": "code",
   "execution_count": 24,
   "id": "cbd6245a",
   "metadata": {},
   "outputs": [],
   "source": [
    "# Implement the formula you found\n",
    "def HedgingAnalytic(s: Union[np.ndarray, torch.Tensor], tt: Union[np.ndarray, torch.Tensor], K, T, r, sigma, **kwargs):\n",
    "    \"\"\"\n",
    "    s: (num_paths, N + 1)\n",
    "    tt: (N + 1, )\n",
    "    \"\"\"\n",
    "    if isinstance(s, torch.Tensor):\n",
    "        s = s.cpu().numpy()\n",
    "    if isinstance(tt, torch.Tensor):\n",
    "        tt = tt.cpu().numpy()\n",
    "        \n",
    "#     s = s[:, :-1]\n",
    "#     tt = tt[:-1]\n",
    "    d_plus = 1 / (sigma * (T - tt) ** 0.5) * (np.log(s / K) + (r + sigma ** 2 / 2) * (T - tt))\n",
    "    positions = norm.cdf(d_plus)\n",
    "    \n",
    "    # (num_paths, N + 1)\n",
    "    return positions"
   ]
  },
  {
   "cell_type": "code",
   "execution_count": 25,
   "id": "42993cf8",
   "metadata": {},
   "outputs": [
    {
     "name": "stderr",
     "output_type": "stream",
     "text": [
      "C:\\Users\\lenovo\\AppData\\Local\\Temp\\ipykernel_18668\\1873933014.py:14: RuntimeWarning: divide by zero encountered in divide\n",
      "  d_plus = 1 / (sigma * (T - tt) ** 0.5) * (np.log(s / K) + (r + sigma ** 2 / 2) * (T - tt))\n"
     ]
    },
    {
     "name": "stdout",
     "output_type": "stream",
     "text": [
      "Average square hedge losses: 8.041e-05\n"
     ]
    },
    {
     "data": {
      "image/png": "[encoded data removed]",
      "text/plain": [
       "<Figure size 691.2x345.6 with 1 Axes>"
      ]
     },
     "metadata": {
      "needs_background": "light"
     },
     "output_type": "display_data"
    }
   ],
   "source": [
    "# Evaluate the losses of the analytical hedging strategies on the test set\n",
    "paths_val, _ = data_module_main.val_ds.tensors\n",
    "s = torch.exp(paths_val)\n",
    "tt = torch.linspace(0, BS_PARAMS[\"T\"], BS_PARAMS[\"N\"] + 1)\n",
    "positions = HedgingAnalytic(s, tt, **BS_PARAMS)\n",
    "profits = (torch.tensor(positions[:, :-1]) * (s[:, 1:] - s[:, :-1])).sum(dim=1)\n",
    "short_call_profits = compute_short_call_profit(s[:, 0], s[:, -1], **BS_PARAMS)\n",
    "hedge_losses = -(profits + short_call_profits)\n",
    "\n",
    "_ = evaluate_model(hedge_losses)"
   ]
  },
  {
   "cell_type": "markdown",
   "id": "8e74cf1c",
   "metadata": {},
   "source": [
    "**Something to think about**: in the Black-Scholes model every option can be perfectly hedged using its analytical hedging strategy.\n",
    "But the analytical solution you have computed does not give zero losses. Can you explain why?"
   ]
  },
  {
   "cell_type": "markdown",
   "id": "d340ddfe-ba3a-402a-8a83-34c4af2867aa",
   "metadata": {},
   "source": [
    "<span style=\"color: blue;\"><b>Solution:</b></span>\n",
    "\n",
    "Black-Scholes model assumes continuous time while we are using a discrete time grid."
   ]
  },
  {
   "cell_type": "markdown",
   "id": "d3379582-e01b-41eb-9a21-a6aac71b46ec",
   "metadata": {},
   "source": [
    "### Question 2.c - Hedging losses comparison"
   ]
  },
  {
   "cell_type": "markdown",
   "id": "0f94184e",
   "metadata": {},
   "source": [
    "How does your deep hedging model compare with the analytical solution?\n",
    "- If it's worse, you must improve its performance (see checklist above)"
   ]
  },
  {
   "cell_type": "markdown",
   "id": "872e6020",
   "metadata": {},
   "source": [
    "<span style=\"color: blue;\"><b>Discussion:</b></span>\n",
    "\n",
    "The deep hedging model is slightly worse than the analytical solution in mean squared hedge loss and std of the hedge losses, but they are comparable. The deep model achieves smaller absolute mean in hedge losses. We describe the hyperparameter tuning process below:\n",
    "- Instead of using stacks of `nn.Linear`, we add a shortcut in the style of ResNet for each hidden layer.\n",
    "- Each model is trained for 50 epochs, with batch-size 2048. The batch-size is large enough to support a large starting learning rate 5e-3.\n",
    "- We used a `ReduceLROnPlateau` scheduler.\n",
    "- `num_layers` and `hidden_units` are tuned with `optuna` for 30 trials.\n",
    "- We chose not to use any normalization layers (`BatchNorm1d` or `LayerNorm`), because they result in inferior performance."
   ]
  },
  {
   "cell_type": "markdown",
   "id": "061f4e62",
   "metadata": {},
   "source": [
    "### Question 2.d - Learned strategy comparison"
   ]
  },
  {
   "cell_type": "code",
   "execution_count": 26,
   "id": "55701ffc",
   "metadata": {},
   "outputs": [
    {
     "data": {
      "image/png": "[encoded data removed]",
      "text/plain": [
       "<Figure size 432x432 with 1 Axes>"
      ]
     },
     "metadata": {
      "needs_background": "light"
     },
     "output_type": "display_data"
    },
    {
     "data": {
      "image/png": "[encoded data removed]",
      "text/plain": [
       "<Figure size 432x432 with 1 Axes>"
      ]
     },
     "metadata": {
      "needs_background": "light"
     },
     "output_type": "display_data"
    },
    {
     "data": {
      "image/png": "[encoded data removed]",
      "text/plain": [
       "<Figure size 432x432 with 1 Axes>"
      ]
     },
     "metadata": {
      "needs_background": "light"
     },
     "output_type": "display_data"
    },
    {
     "data": {
      "image/png": "[encoded data removed]",
      "text/plain": [
       "<Figure size 432x432 with 1 Axes>"
      ]
     },
     "metadata": {
      "needs_background": "light"
     },
     "output_type": "display_data"
    }
   ],
   "source": [
    "# Plot both the neural network strategies and the analytical hedging strategies\n",
    "indices = [0, 10, 20, 29]\n",
    "ss = torch.linspace(0.5, 1.5, 100)[:, None]\n",
    "tt = torch.linspace(0, BS_PARAMS[\"T\"], BS_PARAMS[\"N\"] + 1)\n",
    "\n",
    "with torch.no_grad():\n",
    "    for ind in indices:\n",
    "        fig, axis = plt.subplots(figsize=(6, 6))\n",
    "        hedge_deep_iter = pl_model_auto.model.models[ind]\n",
    "        positions_deep = hedge_deep_iter(torch.log(ss)).flatten()\n",
    "        positions_ana = HedgingAnalytic(ss, tt[ind:ind + 1], **BS_PARAMS)\n",
    "        axis.plot(ss, positions_deep, label=\"deep\")\n",
    "        axis.plot(ss, positions_ana, label=\"analytical\")\n",
    "        axis.set_title(f\"Index {ind}\")\n",
    "        axis.set_xlabel(\"s\")\n",
    "        axis.set_ylabel(\"Value\")\n",
    "        axis.legend()"
   ]
  },
  {
   "cell_type": "markdown",
   "id": "6e3d3288",
   "metadata": {},
   "source": [
    "- For what times $t_j$ are the two functions most similar? \n",
    "- Why?"
   ]
  },
  {
   "cell_type": "markdown",
   "id": "15ffe859",
   "metadata": {},
   "source": [
    "<span style=\"color: blue;\"><b>Discussion:</b></span>\n",
    "    \n",
    "For later time points (closer to expiration), deep model is more similar to analytical model, since there is less uncertainty when getting closer to expiration, hence easier for NN to learn."
   ]
  },
  {
   "cell_type": "markdown",
   "id": "96e13c13",
   "metadata": {},
   "source": [
    "# Exercise 3"
   ]
  },
  {
   "cell_type": "markdown",
   "id": "395e7240",
   "metadata": {},
   "source": [
    "### Question 3.a - Model implementation"
   ]
  },
  {
   "cell_type": "code",
   "execution_count": 27,
   "id": "9b24141f",
   "metadata": {},
   "outputs": [],
   "source": [
    "# Implement the new deep hedging model\n",
    "class NonAutonomousModel(nn.Module):\n",
    "    def __init__(self, params: dict):\n",
    "        \"\"\"\n",
    "        params: num_layers, hidden_units, bs_params\n",
    "        \"\"\"\n",
    "        super().__init__()\n",
    "        self.params = params\n",
    "        self.bs_params = params[\"bs_params\"]\n",
    "        mlp_params = dict(input_units=2, num_layers=self.params[\"num_layers\"], hidden_units=self.params[\"hidden_units\"])\n",
    "        self.model = MLP(mlp_params)\n",
    "        \n",
    "    def forward(self, x, tt):\n",
    "        # x: (B, N + 1), tt: (B, N + 1)\n",
    "        B, N = x.shape\n",
    "        N -= 1\n",
    "        positions = self.model(torch.stack([x[:, :-1], tt[:, :-1]], dim=-1).reshape(-1, 2))  # (B, N, 2) -> (B * N, 2) -> (B * N,)\n",
    "        positions = positions.reshape(B, N)  # (B, N)\n",
    "        profits = positions * (torch.exp(x[:, 1:]) - torch.exp(x[:, :-1]))  # (B, N) * (B, N) -> (B, N)\n",
    "        profit = profits.sum(dim=1)  # (B,)\n",
    "        \n",
    "        short_call_profit = compute_short_call_profit(torch.exp(x[:, 0]), torch.exp(x[:, -1]), **self.bs_params)  # (B,)\n",
    "        hedging_loss = -(profit + short_call_profit)\n",
    "        \n",
    "        return hedging_loss"
   ]
  },
  {
   "cell_type": "code",
   "execution_count": 28,
   "id": "7fcbde4e",
   "metadata": {},
   "outputs": [
    {
     "data": {
      "text/plain": [
       "torch.Size([2048])"
      ]
     },
     "execution_count": 28,
     "metadata": {},
     "output_type": "execute_result"
    }
   ],
   "source": [
    "# Sanity check on output shape\n",
    "model_params = {\n",
    "    \"num_layers\": 3,\n",
    "    \"hidden_units\": 32,\n",
    "    \"N\": BS_PARAMS[\"N\"],  # not used\n",
    "    \"bs_params\": BS_PARAMS.copy(),\n",
    "}\n",
    "\n",
    "data_module_params = TRAINING_CONFIGS.copy()\n",
    "data_module_params[\"bs_params\"] = BS_PARAMS.copy()\n",
    "data_module = BSDataModule(data_module_params)\n",
    "data_module.setup(\"fit\")\n",
    "for x, tt in data_module.train_dataloader():\n",
    "    break\n",
    "\n",
    "model = NonAutonomousModel(model_params)\n",
    "hedge_loss = model(x, tt)\n",
    "hedge_loss.shape"
   ]
  },
  {
   "cell_type": "code",
   "execution_count": 29,
   "id": "64859b13",
   "metadata": {},
   "outputs": [
    {
     "name": "stderr",
     "output_type": "stream",
     "text": [
      "GPU available: True (cuda), used: True\n",
      "TPU available: False, using: 0 TPU cores\n",
      "HPU available: False, using: 0 HPUs\n",
      "Running in `fast_dev_run` mode: will run the requested loop using 100 batch(es). Logging and checkpointing is suppressed.\n",
      "LOCAL_RANK: 0 - CUDA_VISIBLE_DEVICES: [0]\n",
      "\n",
      "  | Name  | Type               | Params | Mode \n",
      "-----------------------------------------------------\n",
      "0 | model | NonAutonomousModel | 1.2 K  | train\n",
      "-----------------------------------------------------\n",
      "1.2 K     Trainable params\n",
      "0         Non-trainable params\n",
      "1.2 K     Total params\n",
      "0.005     Total estimated model params size (MB)\n",
      "10        Modules in train mode\n",
      "0         Modules in eval mode\n",
      "D:\\python\\venvs\\DeepLearning\\lib\\site-packages\\lightning\\pytorch\\trainer\\connectors\\data_connector.py:424: The 'train_dataloader' does not have many workers which may be a bottleneck. Consider increasing the value of the `num_workers` argument` to `num_workers=15` in the `DataLoader` to improve performance.\n",
      "D:\\python\\venvs\\DeepLearning\\lib\\site-packages\\lightning\\pytorch\\trainer\\connectors\\data_connector.py:424: The 'val_dataloader' does not have many workers which may be a bottleneck. Consider increasing the value of the `num_workers` argument` to `num_workers=15` in the `DataLoader` to improve performance.\n"
     ]
    },
    {
     "data": {
      "application/vnd.jupyter.widget-view+json": {
       "model_id": "a5a09dffceb842fab676389d0663dad7",
       "version_major": 2,
       "version_minor": 0
      },
      "text/plain": [
       "Training: |                                                                                                   …"
      ]
     },
     "metadata": {},
     "output_type": "display_data"
    },
    {
     "data": {
      "application/vnd.jupyter.widget-view+json": {
       "model_id": "",
       "version_major": 2,
       "version_minor": 0
      },
      "text/plain": [
       "Validation: |                                                                                                 …"
      ]
     },
     "metadata": {},
     "output_type": "display_data"
    },
    {
     "name": "stderr",
     "output_type": "stream",
     "text": [
      "`Trainer.fit` stopped: `max_epochs=1` reached.\n"
     ]
    }
   ],
   "source": [
    "# Debug model\n",
    "trainer = pl.Trainer(fast_dev_run=100, num_sanity_val_steps=-1)\n",
    "pl_model = HedgingLModule(model, TRAINING_CONFIGS)\n",
    "trainer.fit(pl_model, datamodule=data_module)"
   ]
  },
  {
   "cell_type": "markdown",
   "id": "92c7a083-b2f5-4917-830f-560c96dd876f",
   "metadata": {},
   "source": [
    "### Question 3.b - Model training"
   ]
  },
  {
   "cell_type": "code",
   "execution_count": 30,
   "id": "abb85291-ba3b-4edd-940c-d88192f338be",
   "metadata": {
    "scrolled": true
   },
   "outputs": [],
   "source": [
    "# # # Uncomment this cell to tune the model. Output is cleared for readability of assignment submission\n",
    "# # Train the new deep hedging model\n",
    "# model_params = {\n",
    "#     \"num_layers\": 8,  # will be replaced\n",
    "#     \"hidden_units\": 64,  # will be replaced\n",
    "#     \"N\": BS_PARAMS[\"N\"],  # not used\n",
    "#     \"bs_params\": BS_PARAMS.copy(),\n",
    "# }\n",
    "# objective_func = train_main(\n",
    "#     NonAutonomousModel, \n",
    "#     data_module_main, \n",
    "#     model_params, \n",
    "#     TRAINING_CONFIGS, \n",
    "# )\n",
    "# pruner = MedianPruner()\n",
    "# study = optuna.create_study(direction=\"minimize\", pruner=pruner)\n",
    "# study.optimize(objective_func, **TUNING_PARAMS)\n",
    "\n",
    "# with open(f\"{NonAutonomousModel.__name__}_study.pkl\", \"wb\") as wf:\n",
    "#     pickle.dump(study, wf)\n",
    "\n",
    "# study.best_trial.params"
   ]
  },
  {
   "cell_type": "code",
   "execution_count": 31,
   "id": "8aeeaadf",
   "metadata": {},
   "outputs": [
    {
     "data": {
      "text/html": [
       "<div>\n",
       "<style scoped>\n",
       "    .dataframe tbody tr th:only-of-type {\n",
       "        vertical-align: middle;\n",
       "    }\n",
       "\n",
       "    .dataframe tbody tr th {\n",
       "        vertical-align: top;\n",
       "    }\n",
       "\n",
       "    .dataframe thead th {\n",
       "        text-align: right;\n",
       "    }\n",
       "</style>\n",
       "<table border=\"1\" class=\"dataframe\">\n",
       "  <thead>\n",
       "    <tr style=\"text-align: right;\">\n",
       "      <th></th>\n",
       "      <th>number</th>\n",
       "      <th>value</th>\n",
       "      <th>datetime_start</th>\n",
       "      <th>datetime_complete</th>\n",
       "      <th>duration</th>\n",
       "      <th>params_hidden_units</th>\n",
       "      <th>params_num_layers</th>\n",
       "      <th>state</th>\n",
       "    </tr>\n",
       "  </thead>\n",
       "  <tbody>\n",
       "    <tr>\n",
       "      <th>7</th>\n",
       "      <td>7</td>\n",
       "      <td>0.000081</td>\n",
       "      <td>2024-11-08 13:40:40.905277</td>\n",
       "      <td>2024-11-08 13:42:28.914794</td>\n",
       "      <td>0 days 00:01:48.009517</td>\n",
       "      <td>71</td>\n",
       "      <td>9</td>\n",
       "      <td>COMPLETE</td>\n",
       "    </tr>\n",
       "    <tr>\n",
       "      <th>0</th>\n",
       "      <td>0</td>\n",
       "      <td>0.000081</td>\n",
       "      <td>2024-11-08 13:30:11.290482</td>\n",
       "      <td>2024-11-08 13:31:56.585323</td>\n",
       "      <td>0 days 00:01:45.294841</td>\n",
       "      <td>90</td>\n",
       "      <td>6</td>\n",
       "      <td>COMPLETE</td>\n",
       "    </tr>\n",
       "    <tr>\n",
       "      <th>23</th>\n",
       "      <td>23</td>\n",
       "      <td>0.000081</td>\n",
       "      <td>2024-11-08 13:49:52.082346</td>\n",
       "      <td>2024-11-08 13:51:22.338658</td>\n",
       "      <td>0 days 00:01:30.256312</td>\n",
       "      <td>87</td>\n",
       "      <td>4</td>\n",
       "      <td>COMPLETE</td>\n",
       "    </tr>\n",
       "    <tr>\n",
       "      <th>11</th>\n",
       "      <td>11</td>\n",
       "      <td>0.000081</td>\n",
       "      <td>2024-11-08 13:43:23.617136</td>\n",
       "      <td>2024-11-08 13:45:09.703821</td>\n",
       "      <td>0 days 00:01:46.086685</td>\n",
       "      <td>131</td>\n",
       "      <td>5</td>\n",
       "      <td>COMPLETE</td>\n",
       "    </tr>\n",
       "    <tr>\n",
       "      <th>24</th>\n",
       "      <td>24</td>\n",
       "      <td>0.000081</td>\n",
       "      <td>2024-11-08 13:51:22.339658</td>\n",
       "      <td>2024-11-08 13:52:53.565777</td>\n",
       "      <td>0 days 00:01:31.226119</td>\n",
       "      <td>94</td>\n",
       "      <td>4</td>\n",
       "      <td>COMPLETE</td>\n",
       "    </tr>\n",
       "    <tr>\n",
       "      <th>19</th>\n",
       "      <td>19</td>\n",
       "      <td>0.000081</td>\n",
       "      <td>2024-11-08 13:47:53.694509</td>\n",
       "      <td>2024-11-08 13:49:38.567697</td>\n",
       "      <td>0 days 00:01:44.873188</td>\n",
       "      <td>162</td>\n",
       "      <td>4</td>\n",
       "      <td>COMPLETE</td>\n",
       "    </tr>\n",
       "    <tr>\n",
       "      <th>2</th>\n",
       "      <td>2</td>\n",
       "      <td>0.000081</td>\n",
       "      <td>2024-11-08 13:33:19.707831</td>\n",
       "      <td>2024-11-08 13:36:31.834619</td>\n",
       "      <td>0 days 00:03:12.126788</td>\n",
       "      <td>223</td>\n",
       "      <td>8</td>\n",
       "      <td>COMPLETE</td>\n",
       "    </tr>\n",
       "    <tr>\n",
       "      <th>3</th>\n",
       "      <td>3</td>\n",
       "      <td>0.000081</td>\n",
       "      <td>2024-11-08 13:36:31.835616</td>\n",
       "      <td>2024-11-08 13:38:21.973651</td>\n",
       "      <td>0 days 00:01:50.138035</td>\n",
       "      <td>90</td>\n",
       "      <td>8</td>\n",
       "      <td>COMPLETE</td>\n",
       "    </tr>\n",
       "    <tr>\n",
       "      <th>4</th>\n",
       "      <td>4</td>\n",
       "      <td>0.000081</td>\n",
       "      <td>2024-11-08 13:38:21.974651</td>\n",
       "      <td>2024-11-08 13:40:26.771390</td>\n",
       "      <td>0 days 00:02:04.796739</td>\n",
       "      <td>137</td>\n",
       "      <td>7</td>\n",
       "      <td>COMPLETE</td>\n",
       "    </tr>\n",
       "    <tr>\n",
       "      <th>17</th>\n",
       "      <td>17</td>\n",
       "      <td>0.000081</td>\n",
       "      <td>2024-11-08 13:46:48.355136</td>\n",
       "      <td>2024-11-08 13:47:50.894514</td>\n",
       "      <td>0 days 00:01:02.539378</td>\n",
       "      <td>48</td>\n",
       "      <td>6</td>\n",
       "      <td>PRUNED</td>\n",
       "    </tr>\n",
       "    <tr>\n",
       "      <th>1</th>\n",
       "      <td>1</td>\n",
       "      <td>0.000081</td>\n",
       "      <td>2024-11-08 13:31:56.587321</td>\n",
       "      <td>2024-11-08 13:33:19.706829</td>\n",
       "      <td>0 days 00:01:23.119508</td>\n",
       "      <td>56</td>\n",
       "      <td>3</td>\n",
       "      <td>COMPLETE</td>\n",
       "    </tr>\n",
       "    <tr>\n",
       "      <th>14</th>\n",
       "      <td>14</td>\n",
       "      <td>0.000081</td>\n",
       "      <td>2024-11-08 13:45:18.587813</td>\n",
       "      <td>2024-11-08 13:46:02.404934</td>\n",
       "      <td>0 days 00:00:43.817121</td>\n",
       "      <td>109</td>\n",
       "      <td>5</td>\n",
       "      <td>PRUNED</td>\n",
       "    </tr>\n",
       "    <tr>\n",
       "      <th>16</th>\n",
       "      <td>16</td>\n",
       "      <td>0.000082</td>\n",
       "      <td>2024-11-08 13:46:05.910934</td>\n",
       "      <td>2024-11-08 13:46:48.353132</td>\n",
       "      <td>0 days 00:00:42.442198</td>\n",
       "      <td>73</td>\n",
       "      <td>6</td>\n",
       "      <td>PRUNED</td>\n",
       "    </tr>\n",
       "    <tr>\n",
       "      <th>9</th>\n",
       "      <td>9</td>\n",
       "      <td>0.000082</td>\n",
       "      <td>2024-11-08 13:42:50.859794</td>\n",
       "      <td>2024-11-08 13:43:15.324046</td>\n",
       "      <td>0 days 00:00:24.464252</td>\n",
       "      <td>91</td>\n",
       "      <td>3</td>\n",
       "      <td>PRUNED</td>\n",
       "    </tr>\n",
       "    <tr>\n",
       "      <th>8</th>\n",
       "      <td>8</td>\n",
       "      <td>0.000083</td>\n",
       "      <td>2024-11-08 13:42:28.915791</td>\n",
       "      <td>2024-11-08 13:42:50.858790</td>\n",
       "      <td>0 days 00:00:21.942999</td>\n",
       "      <td>66</td>\n",
       "      <td>3</td>\n",
       "      <td>PRUNED</td>\n",
       "    </tr>\n",
       "    <tr>\n",
       "      <th>21</th>\n",
       "      <td>21</td>\n",
       "      <td>0.000099</td>\n",
       "      <td>2024-11-08 13:49:41.141800</td>\n",
       "      <td>2024-11-08 13:49:49.698347</td>\n",
       "      <td>0 days 00:00:08.556547</td>\n",
       "      <td>118</td>\n",
       "      <td>5</td>\n",
       "      <td>PRUNED</td>\n",
       "    </tr>\n",
       "    <tr>\n",
       "      <th>10</th>\n",
       "      <td>10</td>\n",
       "      <td>0.000102</td>\n",
       "      <td>2024-11-08 13:43:15.325048</td>\n",
       "      <td>2024-11-08 13:43:23.616136</td>\n",
       "      <td>0 days 00:00:08.291088</td>\n",
       "      <td>33</td>\n",
       "      <td>10</td>\n",
       "      <td>PRUNED</td>\n",
       "    </tr>\n",
       "    <tr>\n",
       "      <th>5</th>\n",
       "      <td>5</td>\n",
       "      <td>0.000102</td>\n",
       "      <td>2024-11-08 13:40:26.772391</td>\n",
       "      <td>2024-11-08 13:40:35.170174</td>\n",
       "      <td>0 days 00:00:08.397783</td>\n",
       "      <td>73</td>\n",
       "      <td>8</td>\n",
       "      <td>PRUNED</td>\n",
       "    </tr>\n",
       "    <tr>\n",
       "      <th>26</th>\n",
       "      <td>26</td>\n",
       "      <td>0.000117</td>\n",
       "      <td>2024-11-08 13:52:57.606631</td>\n",
       "      <td>2024-11-08 13:53:03.365459</td>\n",
       "      <td>0 days 00:00:05.758828</td>\n",
       "      <td>55</td>\n",
       "      <td>7</td>\n",
       "      <td>PRUNED</td>\n",
       "    </tr>\n",
       "    <tr>\n",
       "      <th>13</th>\n",
       "      <td>13</td>\n",
       "      <td>0.000136</td>\n",
       "      <td>2024-11-08 13:45:13.142813</td>\n",
       "      <td>2024-11-08 13:45:18.586819</td>\n",
       "      <td>0 days 00:00:05.444006</td>\n",
       "      <td>54</td>\n",
       "      <td>5</td>\n",
       "      <td>PRUNED</td>\n",
       "    </tr>\n",
       "    <tr>\n",
       "      <th>28</th>\n",
       "      <td>28</td>\n",
       "      <td>0.000149</td>\n",
       "      <td>2024-11-08 13:53:07.307729</td>\n",
       "      <td>2024-11-08 13:53:11.629038</td>\n",
       "      <td>0 days 00:00:04.321309</td>\n",
       "      <td>84</td>\n",
       "      <td>6</td>\n",
       "      <td>PRUNED</td>\n",
       "    </tr>\n",
       "    <tr>\n",
       "      <th>25</th>\n",
       "      <td>25</td>\n",
       "      <td>0.000150</td>\n",
       "      <td>2024-11-08 13:52:53.566776</td>\n",
       "      <td>2024-11-08 13:52:57.605735</td>\n",
       "      <td>0 days 00:00:04.038959</td>\n",
       "      <td>79</td>\n",
       "      <td>4</td>\n",
       "      <td>PRUNED</td>\n",
       "    </tr>\n",
       "    <tr>\n",
       "      <th>6</th>\n",
       "      <td>6</td>\n",
       "      <td>0.000150</td>\n",
       "      <td>2024-11-08 13:40:35.170174</td>\n",
       "      <td>2024-11-08 13:40:40.904278</td>\n",
       "      <td>0 days 00:00:05.734104</td>\n",
       "      <td>41</td>\n",
       "      <td>7</td>\n",
       "      <td>PRUNED</td>\n",
       "    </tr>\n",
       "    <tr>\n",
       "      <th>27</th>\n",
       "      <td>27</td>\n",
       "      <td>0.000166</td>\n",
       "      <td>2024-11-08 13:53:03.366458</td>\n",
       "      <td>2024-11-08 13:53:07.305721</td>\n",
       "      <td>0 days 00:00:03.939263</td>\n",
       "      <td>63</td>\n",
       "      <td>4</td>\n",
       "      <td>PRUNED</td>\n",
       "    </tr>\n",
       "    <tr>\n",
       "      <th>29</th>\n",
       "      <td>29</td>\n",
       "      <td>0.000185</td>\n",
       "      <td>2024-11-08 13:53:11.630041</td>\n",
       "      <td>2024-11-08 13:53:15.032504</td>\n",
       "      <td>0 days 00:00:03.402463</td>\n",
       "      <td>44</td>\n",
       "      <td>3</td>\n",
       "      <td>PRUNED</td>\n",
       "    </tr>\n",
       "    <tr>\n",
       "      <th>18</th>\n",
       "      <td>18</td>\n",
       "      <td>0.000509</td>\n",
       "      <td>2024-11-08 13:47:50.895517</td>\n",
       "      <td>2024-11-08 13:47:53.693511</td>\n",
       "      <td>0 days 00:00:02.797994</td>\n",
       "      <td>103</td>\n",
       "      <td>9</td>\n",
       "      <td>PRUNED</td>\n",
       "    </tr>\n",
       "    <tr>\n",
       "      <th>22</th>\n",
       "      <td>22</td>\n",
       "      <td>0.000826</td>\n",
       "      <td>2024-11-08 13:49:49.699344</td>\n",
       "      <td>2024-11-08 13:49:52.082346</td>\n",
       "      <td>0 days 00:00:02.383002</td>\n",
       "      <td>138</td>\n",
       "      <td>6</td>\n",
       "      <td>PRUNED</td>\n",
       "    </tr>\n",
       "    <tr>\n",
       "      <th>12</th>\n",
       "      <td>12</td>\n",
       "      <td>0.000841</td>\n",
       "      <td>2024-11-08 13:45:09.704817</td>\n",
       "      <td>2024-11-08 13:45:13.141817</td>\n",
       "      <td>0 days 00:00:03.437000</td>\n",
       "      <td>135</td>\n",
       "      <td>10</td>\n",
       "      <td>PRUNED</td>\n",
       "    </tr>\n",
       "    <tr>\n",
       "      <th>20</th>\n",
       "      <td>20</td>\n",
       "      <td>0.000999</td>\n",
       "      <td>2024-11-08 13:49:38.568697</td>\n",
       "      <td>2024-11-08 13:49:41.140801</td>\n",
       "      <td>0 days 00:00:02.572104</td>\n",
       "      <td>71</td>\n",
       "      <td>9</td>\n",
       "      <td>PRUNED</td>\n",
       "    </tr>\n",
       "    <tr>\n",
       "      <th>15</th>\n",
       "      <td>15</td>\n",
       "      <td>0.001039</td>\n",
       "      <td>2024-11-08 13:46:02.406936</td>\n",
       "      <td>2024-11-08 13:46:05.909934</td>\n",
       "      <td>0 days 00:00:03.502998</td>\n",
       "      <td>185</td>\n",
       "      <td>9</td>\n",
       "      <td>PRUNED</td>\n",
       "    </tr>\n",
       "  </tbody>\n",
       "</table>\n",
       "</div>"
      ],
      "text/plain": [
       "    number     value             datetime_start          datetime_complete  \\\n",
       "7        7  0.000081 2024-11-08 13:40:40.905277 2024-11-08 13:42:28.914794   \n",
       "0        0  0.000081 2024-11-08 13:30:11.290482 2024-11-08 13:31:56.585323   \n",
       "23      23  0.000081 2024-11-08 13:49:52.082346 2024-11-08 13:51:22.338658   \n",
       "11      11  0.000081 2024-11-08 13:43:23.617136 2024-11-08 13:45:09.703821   \n",
       "24      24  0.000081 2024-11-08 13:51:22.339658 2024-11-08 13:52:53.565777   \n",
       "19      19  0.000081 2024-11-08 13:47:53.694509 2024-11-08 13:49:38.567697   \n",
       "2        2  0.000081 2024-11-08 13:33:19.707831 2024-11-08 13:36:31.834619   \n",
       "3        3  0.000081 2024-11-08 13:36:31.835616 2024-11-08 13:38:21.973651   \n",
       "4        4  0.000081 2024-11-08 13:38:21.974651 2024-11-08 13:40:26.771390   \n",
       "17      17  0.000081 2024-11-08 13:46:48.355136 2024-11-08 13:47:50.894514   \n",
       "1        1  0.000081 2024-11-08 13:31:56.587321 2024-11-08 13:33:19.706829   \n",
       "14      14  0.000081 2024-11-08 13:45:18.587813 2024-11-08 13:46:02.404934   \n",
       "16      16  0.000082 2024-11-08 13:46:05.910934 2024-11-08 13:46:48.353132   \n",
       "9        9  0.000082 2024-11-08 13:42:50.859794 2024-11-08 13:43:15.324046   \n",
       "8        8  0.000083 2024-11-08 13:42:28.915791 2024-11-08 13:42:50.858790   \n",
       "21      21  0.000099 2024-11-08 13:49:41.141800 2024-11-08 13:49:49.698347   \n",
       "10      10  0.000102 2024-11-08 13:43:15.325048 2024-11-08 13:43:23.616136   \n",
       "5        5  0.000102 2024-11-08 13:40:26.772391 2024-11-08 13:40:35.170174   \n",
       "26      26  0.000117 2024-11-08 13:52:57.606631 2024-11-08 13:53:03.365459   \n",
       "13      13  0.000136 2024-11-08 13:45:13.142813 2024-11-08 13:45:18.586819   \n",
       "28      28  0.000149 2024-11-08 13:53:07.307729 2024-11-08 13:53:11.629038   \n",
       "25      25  0.000150 2024-11-08 13:52:53.566776 2024-11-08 13:52:57.605735   \n",
       "6        6  0.000150 2024-11-08 13:40:35.170174 2024-11-08 13:40:40.904278   \n",
       "27      27  0.000166 2024-11-08 13:53:03.366458 2024-11-08 13:53:07.305721   \n",
       "29      29  0.000185 2024-11-08 13:53:11.630041 2024-11-08 13:53:15.032504   \n",
       "18      18  0.000509 2024-11-08 13:47:50.895517 2024-11-08 13:47:53.693511   \n",
       "22      22  0.000826 2024-11-08 13:49:49.699344 2024-11-08 13:49:52.082346   \n",
       "12      12  0.000841 2024-11-08 13:45:09.704817 2024-11-08 13:45:13.141817   \n",
       "20      20  0.000999 2024-11-08 13:49:38.568697 2024-11-08 13:49:41.140801   \n",
       "15      15  0.001039 2024-11-08 13:46:02.406936 2024-11-08 13:46:05.909934   \n",
       "\n",
       "                 duration  params_hidden_units  params_num_layers     state  \n",
       "7  0 days 00:01:48.009517                   71                  9  COMPLETE  \n",
       "0  0 days 00:01:45.294841                   90                  6  COMPLETE  \n",
       "23 0 days 00:01:30.256312                   87                  4  COMPLETE  \n",
       "11 0 days 00:01:46.086685                  131                  5  COMPLETE  \n",
       "24 0 days 00:01:31.226119                   94                  4  COMPLETE  \n",
       "19 0 days 00:01:44.873188                  162                  4  COMPLETE  \n",
       "2  0 days 00:03:12.126788                  223                  8  COMPLETE  \n",
       "3  0 days 00:01:50.138035                   90                  8  COMPLETE  \n",
       "4  0 days 00:02:04.796739                  137                  7  COMPLETE  \n",
       "17 0 days 00:01:02.539378                   48                  6    PRUNED  \n",
       "1  0 days 00:01:23.119508                   56                  3  COMPLETE  \n",
       "14 0 days 00:00:43.817121                  109                  5    PRUNED  \n",
       "16 0 days 00:00:42.442198                   73                  6    PRUNED  \n",
       "9  0 days 00:00:24.464252                   91                  3    PRUNED  \n",
       "8  0 days 00:00:21.942999                   66                  3    PRUNED  \n",
       "21 0 days 00:00:08.556547                  118                  5    PRUNED  \n",
       "10 0 days 00:00:08.291088                   33                 10    PRUNED  \n",
       "5  0 days 00:00:08.397783                   73                  8    PRUNED  \n",
       "26 0 days 00:00:05.758828                   55                  7    PRUNED  \n",
       "13 0 days 00:00:05.444006                   54                  5    PRUNED  \n",
       "28 0 days 00:00:04.321309                   84                  6    PRUNED  \n",
       "25 0 days 00:00:04.038959                   79                  4    PRUNED  \n",
       "6  0 days 00:00:05.734104                   41                  7    PRUNED  \n",
       "27 0 days 00:00:03.939263                   63                  4    PRUNED  \n",
       "29 0 days 00:00:03.402463                   44                  3    PRUNED  \n",
       "18 0 days 00:00:02.797994                  103                  9    PRUNED  \n",
       "22 0 days 00:00:02.383002                  138                  6    PRUNED  \n",
       "12 0 days 00:00:03.437000                  135                 10    PRUNED  \n",
       "20 0 days 00:00:02.572104                   71                  9    PRUNED  \n",
       "15 0 days 00:00:03.502998                  185                  9    PRUNED  "
      ]
     },
     "execution_count": 31,
     "metadata": {},
     "output_type": "execute_result"
    }
   ],
   "source": [
    "with open(f\"submissions/{NonAutonomousModel.__name__}_study.pkl\", \"rb\") as rf:\n",
    "    study = pickle.load(rf)\n",
    "\n",
    "study.trials_dataframe().sort_values(\"value\", ascending=True)"
   ]
  },
  {
   "cell_type": "markdown",
   "id": "2b4263e6",
   "metadata": {},
   "source": [
    "### Question 3.c - Model evaluation"
   ]
  },
  {
   "cell_type": "code",
   "execution_count": 32,
   "id": "2ee525e7",
   "metadata": {},
   "outputs": [
    {
     "name": "stderr",
     "output_type": "stream",
     "text": [
      "GPU available: True (cuda), used: True\n",
      "TPU available: False, using: 0 TPU cores\n",
      "HPU available: False, using: 0 HPUs\n",
      "LOCAL_RANK: 0 - CUDA_VISIBLE_DEVICES: [0]\n",
      "D:\\python\\venvs\\DeepLearning\\lib\\site-packages\\lightning\\pytorch\\trainer\\connectors\\data_connector.py:424: The 'predict_dataloader' does not have many workers which may be a bottleneck. Consider increasing the value of the `num_workers` argument` to `num_workers=15` in the `DataLoader` to improve performance.\n"
     ]
    },
    {
     "data": {
      "application/vnd.jupyter.widget-view+json": {
       "model_id": "a2f0cca74e674adb9cd96110b02f3e5d",
       "version_major": 2,
       "version_minor": 0
      },
      "text/plain": [
       "Predicting: |                                                                                                 …"
      ]
     },
     "metadata": {},
     "output_type": "display_data"
    },
    {
     "data": {
      "text/plain": [
       "((10000,), 0.1809985637664795)"
      ]
     },
     "execution_count": 32,
     "metadata": {},
     "output_type": "execute_result"
    }
   ],
   "source": [
    "# Evaluate the hedging losses on the test set\n",
    "\n",
    "# Plot a histogram of the hedging losses and print mean and standard deviation\n",
    "model_params = {\n",
    "    \"num_layers\": 8,  # will be replaced\n",
    "    \"hidden_units\": 64,  # will be replaced\n",
    "    \"N\": BS_PARAMS[\"N\"],\n",
    "    \"bs_params\": BS_PARAMS.copy(),\n",
    "}\n",
    "model_params.update(study.best_params)\n",
    "model = NonAutonomousModel(model_params)\n",
    "pl_model_non_auto = HedgingLModule.load_from_checkpoint(\n",
    "    \"submissions/ckpts/NonAutonomousModel/num_layers_9__hidden_units_71/epoch=34_val_hedge_loss=8.048e-05.ckpt\",\n",
    "    model=model,\n",
    "    params=TRAINING_CONFIGS,\n",
    ")\n",
    "trainer = pl.Trainer()\n",
    "time_start = time.time()\n",
    "hedge_losses = predict(trainer, pl_model_non_auto, data_module_main)\n",
    "time_end = time.time()\n",
    "non_auto_eval_runtime = time_end - time_start\n",
    "hedge_losses.shape, non_auto_eval_runtime"
   ]
  },
  {
   "cell_type": "code",
   "execution_count": 33,
   "id": "9afce612",
   "metadata": {},
   "outputs": [
    {
     "name": "stdout",
     "output_type": "stream",
     "text": [
      "Average square hedge losses: 8.048e-05\n"
     ]
    },
    {
     "data": {
      "image/png": "[encoded data removed]",
      "text/plain": [
       "<Figure size 691.2x345.6 with 1 Axes>"
      ]
     },
     "metadata": {
      "needs_background": "light"
     },
     "output_type": "display_data"
    }
   ],
   "source": [
    "_ = evaluate_model(hedge_losses)"
   ]
  },
  {
   "cell_type": "markdown",
   "id": "88a32876",
   "metadata": {},
   "source": [
    "<span style=\"color: blue;\"><b>Discussion:</b></span>\n",
    "\n",
    "The non-autonomous model and the analytical model have very similar performance. The non-autonomous model achieves smaller absolute mean hedge losses with equivalent standard deviation in hedge losses and mean squared hedge losses."
   ]
  },
  {
   "cell_type": "markdown",
   "id": "62262d18",
   "metadata": {},
   "source": [
    "### Question 3.d - Model comparison"
   ]
  },
  {
   "cell_type": "code",
   "execution_count": 34,
   "id": "6b31de80",
   "metadata": {},
   "outputs": [],
   "source": [
    "# Compare with the first deep hedging model (Exercise 1)\n",
    "# Keep the comparison fair: evaluate run-time, performance and number of parameters."
   ]
  },
  {
   "cell_type": "code",
   "execution_count": 35,
   "id": "04e36b10",
   "metadata": {},
   "outputs": [],
   "source": [
    "with open(f\"submissions/{AutonomousModel.__name__}_study.pkl\", \"rb\") as rf:\n",
    "    auto_study = pickle.load(rf)\n",
    "    \n",
    "with open(f\"submissions/{NonAutonomousModel.__name__}_study.pkl\", \"rb\") as rf:\n",
    "    non_auto_study = pickle.load(rf)"
   ]
  },
  {
   "cell_type": "code",
   "execution_count": 36,
   "id": "c36b1492",
   "metadata": {},
   "outputs": [],
   "source": [
    "def compare_models(study: optuna.Study, pl_model: HedgingLModule, eval_runtime):\n",
    "    study_df = study.trials_dataframe().sort_values(\"value\", ascending=True)\n",
    "    training_time = study_df[\"duration\"][0].total_seconds()\n",
    "    print(f\"Best model configuration: {study.best_params}\")\n",
    "    print(f\"Best mean squared hedge loss: {study.best_value:.3e}\")\n",
    "    num_params = sum((p.numel() for p in pl_model.model.parameters()))\n",
    "    print(f\"Number of parameters: {num_params:.2e}\")\n",
    "    print(f\"Training time: {training_time:.3f} s\")\n",
    "    print(f\"Training time per param: { training_time / num_params:.3e} s\")\n",
    "    print(f\"Inference time: {eval_runtime:.3f} s\")\n",
    "    print(f\"Inference time per param: {eval_runtime / num_params:.3e} s\")"
   ]
  },
  {
   "cell_type": "code",
   "execution_count": 37,
   "id": "527563a0",
   "metadata": {},
   "outputs": [
    {
     "name": "stdout",
     "output_type": "stream",
     "text": [
      "Exercise 1: Autonomous model\n",
      "----------------------------------------------------------------------------------------------------\n",
      "Best model configuration: {'num_layers': 7, 'hidden_units': 65}\n",
      "Best mean squared hedge loss: 8.132e-05\n",
      "Number of parameters: 6.49e+05\n",
      "Training time: 216.251 s\n",
      "Training time per param: 3.330e-04 s\n",
      "Inference time: 2.956 s\n",
      "Inference time per param: 4.552e-06 s\n"
     ]
    }
   ],
   "source": [
    "print(\"Exercise 1: Autonomous model\")\n",
    "print(\"-\" * 100)\n",
    "compare_models(auto_study, pl_model_auto, auto_eval_runtime)"
   ]
  },
  {
   "cell_type": "code",
   "execution_count": 38,
   "id": "dd162ad7",
   "metadata": {},
   "outputs": [
    {
     "name": "stdout",
     "output_type": "stream",
     "text": [
      "Exercise 3: Non-autonomous model\n",
      "----------------------------------------------------------------------------------------------------\n",
      "Best model configuration: {'num_layers': 9, 'hidden_units': 71}\n",
      "Best mean squared hedge loss: 8.051e-05\n",
      "Number of parameters: 3.61e+04\n",
      "Training time: 105.295 s\n",
      "Training time per param: 2.919e-03 s\n",
      "Inference time: 0.181 s\n",
      "Inference time per param: 5.018e-06 s\n"
     ]
    }
   ],
   "source": [
    "print(\"Exercise 3: Non-autonomous model\")\n",
    "print(\"-\" * 100)\n",
    "compare_models(non_auto_study, pl_model_non_auto, non_auto_eval_runtime)"
   ]
  },
  {
   "cell_type": "markdown",
   "id": "a9dc6657",
   "metadata": {},
   "source": [
    "<span style=\"color: blue;\"><b>Discussion:</b></span>\n",
    "- Non-autonomous model has superior performance in mean squared hedge loss.\n",
    "- Non-autonomous model leverages parameter-sharing, so it has fewer parameters and shorter training and inference time.\n",
    "- However, if we compute \"per parameter time\", the autonomous model is more time-efficient.\n",
    "- From the perspective of model generality, non-autonomous model can take any time point input while for autonomous model we can only increase number of sub-models if we want to use a finer time grid, which can be computationally expensive."
   ]
  },
  {
   "cell_type": "code",
   "execution_count": null,
   "id": "bb3235c1",
   "metadata": {},
   "outputs": [],
   "source": []
  }
 ],
 "metadata": {
  "kernelspec": {
   "display_name": "DeepLearning",
   "language": "python",
   "name": "deeplearning"
  },
  "language_info": {
   "codemirror_mode": {
    "name": "ipython",
    "version": 3
   },
   "file_extension": ".py",
   "mimetype": "text/x-python",
   "name": "python",
   "nbconvert_exporter": "python",
   "pygments_lexer": "ipython3",
   "version": "3.9.5"
  }
 },
 "nbformat": 4,
 "nbformat_minor": 5
}
