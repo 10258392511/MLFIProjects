{
 "cells": [
  {
   "cell_type": "markdown",
   "metadata": {
    "id": "1cvucdOYwe36"
   },
   "source": [
    "## Part 1"
   ]
  },
  {
   "cell_type": "markdown",
   "metadata": {
    "id": "DQif5ULikrk0"
   },
   "source": [
    "\n",
    "1.   Define function,\n",
    "2.   define vector A,\n",
    "3.   reshape to matrix, (read out shape)\n",
    "4.   concatenate with another vector, (and, perhaps, another with product of the first two)\n",
    "5.   assign one of its rows/columns to new values,\n",
    "6.   define another vector b and solve linear equation, (includes: look up function online, see why it fails)\n",
    "7.   solve normal equation A^T A x = A^T b (matrix multiplication (np.matmul and @), transpose)\n"
   ]
  },
  {
   "cell_type": "markdown",
   "metadata": {
    "id": "YdY2aqSQwY-N"
   },
   "source": [
    "## Solutions 1"
   ]
  },
  {
   "cell_type": "code",
   "execution_count": 1,
   "metadata": {
    "colab": {
     "base_uri": "https://localhost:8080/"
    },
    "id": "RYWft05Ij4Qp",
    "outputId": "b505a426-df67-4e75-b403-f4700f4a2767"
   },
   "outputs": [
    {
     "name": "stdout",
     "output_type": "stream",
     "text": [
      "1 4 9\n",
      "(100,)\n",
      "(100, 1)\n",
      "(100, 1)\n",
      "(100, 2)\n",
      "[[0.38271783 0.68090357]\n",
      " [0.27576094 0.23862666]\n",
      " [0.194007   0.43043475]\n",
      " [0.65276724 1.        ]\n",
      " [0.0968355  1.        ]\n",
      " [0.28672392 1.        ]]\n",
      "(100,)\n",
      "(100, 1)\n",
      "(100, 3)\n",
      "(100, 1)\n",
      "(3, 1)\n",
      "(3, 3)\n",
      "[[ 0.73445932]\n",
      " [ 0.69941219]\n",
      " [-1.06094221]]\n"
     ]
    }
   ],
   "source": [
    "import numpy as np\n",
    "\n",
    "# 1.\n",
    "def f(x):\n",
    "  return x**2\n",
    "print(f(1), f(2), f(3))\n",
    "\n",
    "# 2.\n",
    "A = np.random.random_sample(100)\n",
    "print(A.shape)\n",
    "\n",
    "# 3.\n",
    "A = np.reshape(A, (-1, 1))\n",
    "print(A.shape)\n",
    "\n",
    "# 4.\n",
    "v = np.ones((100, 1))\n",
    "print(v.shape)\n",
    "A = np.concatenate([A, v], axis=1)\n",
    "print(A.shape)\n",
    "\n",
    "# 5.\n",
    "A[:50, 1] = np.random.random_sample(50)\n",
    "print(A[47:53, :])\n",
    "\n",
    "# 4. continued\n",
    "print(A[:, 0].shape)\n",
    "print(A[:, 0:1].shape)\n",
    "A = np.concatenate([A, A[:, 0:1]*A[:, 1:2]], axis=1)\n",
    "print(A.shape)\n",
    "\n",
    "# 6\n",
    "b = np.random.random_sample((100, 1))\n",
    "print(b.shape)\n",
    "# TODO: google linalg solve\n",
    "# x = np.linalg.solve(A, b)  # doesn't work!\n",
    "\n",
    "\n",
    "# 7\n",
    "rhs = np.transpose(A) @ b\n",
    "lhs = np.transpose(A) @ A\n",
    "print(rhs.shape)\n",
    "print(lhs.shape)\n",
    "x = np.linalg.solve(lhs, rhs)\n",
    "print(x)"
   ]
  },
  {
   "cell_type": "markdown",
   "metadata": {
    "id": "0jpDcF8rwpTQ"
   },
   "source": [
    "## Part 2"
   ]
  },
  {
   "cell_type": "markdown",
   "metadata": {
    "id": "v4PDfHF_lMJ2"
   },
   "source": [
    "\n",
    "\n",
    "8. Define linear funtion f(x) = ax + b from R^3 to R\n",
    "9. Monte Carlo estimation of L^1 error between f(x) and g(x) for two functions f, g and x uniform on [0, 1]^3\n",
    "10.  Monte Carlo estimate E[g(X)]\n",
    "11.  Assign subset of x vector where x>=0.5 to a new value\n",
    "12.  Identity matrix and scaling matrices with constants.\n",
    "13.  Rebuild some matrix A from its SVD np.linalg.svd\n",
    "\n"
   ]
  },
  {
   "cell_type": "markdown",
   "metadata": {
    "id": "aoAWCRIzwt-g"
   },
   "source": [
    "## Solutions 2"
   ]
  },
  {
   "cell_type": "code",
   "execution_count": 2,
   "metadata": {
    "colab": {
     "base_uri": "https://localhost:8080/"
    },
    "id": "__VKDJ4brK_X",
    "outputId": "37efe4ac-e851-45d3-aac8-b107d8576a17"
   },
   "outputs": [
    {
     "name": "stdout",
     "output_type": "stream",
     "text": [
      "(3,)\n",
      "2.053725333086098\n",
      "16.532051696128285\n",
      "[2.05372533 2.05372533 2.05372533 2.05372533 2.05372533 2.05372533\n",
      " 2.05372533 2.05372533 2.05372533 2.05372533]\n",
      "(10000,)\n",
      "0.6034499066181104\n",
      "1.7957057954952769\n",
      "(10000, 3)\n",
      "(14868,)\n",
      "(10000, 3)\n",
      "[[0.45237685 1.         1.        ]\n",
      " [0.05987436 1.         0.46402295]\n",
      " [1.         0.45629178 1.        ]\n",
      " ...\n",
      " [0.22813719 0.40875586 1.        ]\n",
      " [0.0105602  0.09385298 1.        ]\n",
      " [1.         0.07355713 0.3326094 ]]\n",
      "[[1. 0. 0. 0. 0.]\n",
      " [0. 1. 0. 0. 0.]\n",
      " [0. 0. 1. 0. 0.]\n",
      " [0. 0. 0. 1. 0.]\n",
      " [0. 0. 0. 0. 1.]]\n",
      "[[0.1 0.  0.  0.  0. ]\n",
      " [0.  0.1 0.  0.  0. ]\n",
      " [0.  0.  0.1 0.  0. ]\n",
      " [0.  0.  0.  0.1 0. ]\n",
      " [0.  0.  0.  0.  0.1]]\n"
     ]
    }
   ],
   "source": [
    "# 8.\n",
    "a = np.random.random_sample(3)\n",
    "b = np.random.random_sample()\n",
    "print(a.shape)\n",
    "\n",
    "def f(x):\n",
    "  return np.sum(a*x) + b\n",
    "\n",
    "\n",
    "x = np.ones(3)\n",
    "print(f(x))\n",
    "x = np.ones((10, 3))\n",
    "print(f(x))  # not what we want: We want 10 values...\n",
    "\n",
    "def f_vec(x):\n",
    "  return np.sum(a*x, axis=1) + b  # numpy automatically treats a as containing as many rows as x, and multiplies elementwise\n",
    "\n",
    "print(f_vec(x))\n",
    "\n",
    "# 9.\n",
    "def g_vec(x):\n",
    "  return np.sin(x[:, 0]) + np.cos(x[:, 1]) + x[:, 2]\n",
    "\n",
    "x = np.random.random_sample([10000, 3])\n",
    "fx = f_vec(x)\n",
    "gx = g_vec(x)\n",
    "diff = np.abs(fx-gx)\n",
    "print(diff.shape)\n",
    "mcest = np.mean(diff)\n",
    "print(mcest)\n",
    "\n",
    "# 10.\n",
    "print(np.mean(gx))\n",
    "\n",
    "# 11\n",
    "print((x > 0.5).shape)\n",
    "print(x[x > 0.5].shape)\n",
    "x[x > 0.5] = np.ones_like(x[x>0.5])\n",
    "print(x.shape)\n",
    "print(x)\n",
    "\n",
    "# 12.\n",
    "id = np.identity(5)\n",
    "print(id)\n",
    "id_scale = 0.1 * id\n",
    "print(id_scale)"
   ]
  },
  {
   "cell_type": "code",
   "execution_count": 3,
   "metadata": {
    "colab": {
     "base_uri": "https://localhost:8080/"
    },
    "id": "mR-7sfRcvQz0",
    "outputId": "f269adca-537e-489c-e936-78151195a6f4"
   },
   "outputs": [
    {
     "name": "stdout",
     "output_type": "stream",
     "text": [
      "[[0.99748231 0.54180705]\n",
      " [0.87467905 0.08614947]\n",
      " [0.987354   0.0642632 ]]\n",
      "(3, 2) (2,) (2, 2)\n",
      "(2, 2)\n",
      "[[1.70642686 0.        ]\n",
      " [0.         0.35793301]]\n",
      "2.7755575615628914e-17\n"
     ]
    }
   ],
   "source": [
    "# 13.\n",
    "A = np.random.random_sample([3, 2])\n",
    "print(A)\n",
    "U, S, Vh = np.linalg.svd(A, full_matrices=False)\n",
    "print(U.shape, S.shape, Vh.shape)\n",
    "S = np.diag(S)\n",
    "print(S.shape)\n",
    "print(S)\n",
    "A_rec = U@S@Vh\n",
    "print(np.sum(np.abs(A_rec-A)))"
   ]
  }
 ],
 "metadata": {
  "colab": {
   "provenance": []
  },
  "kernelspec": {
   "display_name": "DeepLearning",
   "language": "python",
   "name": "deeplearning"
  },
  "language_info": {
   "codemirror_mode": {
    "name": "ipython",
    "version": 3
   },
   "file_extension": ".py",
   "mimetype": "text/x-python",
   "name": "python",
   "nbconvert_exporter": "python",
   "pygments_lexer": "ipython3",
   "version": "3.9.5"
  }
 },
 "nbformat": 4,
 "nbformat_minor": 1
}
